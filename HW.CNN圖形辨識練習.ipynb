{
 "cells": [
  {
   "cell_type": "code",
   "execution_count": 265,
   "metadata": {},
   "outputs": [
    {
     "name": "stdout",
     "output_type": "stream",
     "text": [
      "env: KERAS_BACKEND=tensorflow\n"
     ]
    }
   ],
   "source": [
    "%env KERAS_BACKEND=tensorflow\n",
    "import numpy as np \n",
    "import matplotlib.pyplot as plt\n",
    "from keras.datasets import mnist\n",
    "(x_train,y_train),(x_test,y_test)=mnist.load_data()\n",
    "from keras.utils import np_utils\n",
    "import matplotlib as mpl\n",
    "\n",
    "mpl.rc('font', family='Noto Sans CJK TC')"
   ]
  },
  {
   "cell_type": "code",
   "execution_count": 192,
   "metadata": {},
   "outputs": [
    {
     "data": {
      "text/plain": [
       "(28, 28)"
      ]
     },
     "execution_count": 192,
     "metadata": {},
     "output_type": "execute_result"
    }
   ],
   "source": [
    "x_train[1234].shape"
   ]
  },
  {
   "cell_type": "markdown",
   "metadata": {},
   "source": [
    "### 由於圖片有ＲＧＢ所以我們要把它轉成 [x,y,z] 這樣的三個矩陣"
   ]
  },
  {
   "cell_type": "code",
   "execution_count": 193,
   "metadata": {},
   "outputs": [],
   "source": [
    "x_train=x_train.reshape(60000,28,28,1)\n",
    "x_test=x_test.reshape(10000,28,28,1)"
   ]
  },
  {
   "cell_type": "code",
   "execution_count": 194,
   "metadata": {},
   "outputs": [
    {
     "data": {
      "text/plain": [
       "(28, 28, 1)"
      ]
     },
     "execution_count": 194,
     "metadata": {},
     "output_type": "execute_result"
    }
   ],
   "source": [
    "x_train[1234].shape"
   ]
  },
  {
   "cell_type": "markdown",
   "metadata": {},
   "source": [
    "### 轉成 1~10  [0., 0., 0., 1., 0., 0., 0., 0., 0., 0."
   ]
  },
  {
   "cell_type": "code",
   "execution_count": 195,
   "metadata": {},
   "outputs": [],
   "source": [
    "y_train = np_utils.to_categorical(y_train,10)\n",
    "y_test = np_utils.to_categorical(y_test,10)"
   ]
  },
  {
   "cell_type": "markdown",
   "metadata": {},
   "source": [
    "### normalize"
   ]
  },
  {
   "cell_type": "code",
   "execution_count": 196,
   "metadata": {},
   "outputs": [],
   "source": [
    "x_train_norm=(x_train - x_train.min())/(x_train.max()-x_train.min())\n",
    "x_test_norm=(x_test - x_test.min())/(x_test.max()-x_test.min())"
   ]
  },
  {
   "cell_type": "markdown",
   "metadata": {},
   "source": [
    "## 用成ＣＮＮ"
   ]
  },
  {
   "cell_type": "code",
   "execution_count": 197,
   "metadata": {},
   "outputs": [],
   "source": [
    "from keras.models import Sequential\n",
    "from keras.layers import Dense , Activation , Flatten#(拉平)\n",
    "from keras.layers import Conv2D ,MaxPool2D\n",
    "from keras.optimizers import SGD,Adam"
   ]
  },
  {
   "cell_type": "code",
   "execution_count": 198,
   "metadata": {},
   "outputs": [],
   "source": [
    "model = Sequential ()"
   ]
  },
  {
   "cell_type": "code",
   "execution_count": 199,
   "metadata": {},
   "outputs": [],
   "source": [
    "model.add(Conv2D(8,(5,5),padding='same',input_shape=(28,28,1))) #第一層 4個 filter size 5*5 \n",
    "model.add(Activation('elu'))\n",
    "model.add(MaxPool2D(pool_size=(2,2)))\n",
    "\n",
    "model.add(Conv2D(16,(5,5),padding='same')) #第二層 8個 filter size 5*5 \n",
    "model.add(Activation('selu'))\n",
    "model.add(MaxPool2D(pool_size=(2,2)))\n",
    "\n",
    "model.add(Conv2D(32,(5,5),padding='same')) #第二層 8個 filter size 5*5 \n",
    "model.add(Activation('relu'))\n",
    "model.add(MaxPool2D(pool_size=(2,2)))"
   ]
  },
  {
   "cell_type": "code",
   "execution_count": 200,
   "metadata": {},
   "outputs": [],
   "source": [
    "model.add(Flatten())\n",
    "#model.add(Dense(87))\n",
    "#model.add(Activation('relu'))\n",
    "#model.add(Dense(36))\n",
    "#model.add(Activation('relu'))\n",
    "model.add(Dense(8+9))\n",
    "model.add(Activation('elu'))\n",
    "model.add(Dense(10))\n",
    "model.add(Activation('softmax'))"
   ]
  },
  {
   "cell_type": "code",
   "execution_count": 201,
   "metadata": {},
   "outputs": [
    {
     "data": {
      "text/plain": [
       "<bound method Network.summary of <keras.engine.sequential.Sequential object at 0xb346bc470>>"
      ]
     },
     "execution_count": 201,
     "metadata": {},
     "output_type": "execute_result"
    }
   ],
   "source": [
    "model.summary"
   ]
  },
  {
   "cell_type": "code",
   "execution_count": 202,
   "metadata": {},
   "outputs": [],
   "source": [
    "model.compile(loss='categorical_crossentropy',\n",
    "                    optimizer=Adam(),\n",
    "                      metrics =['accuracy'])"
   ]
  },
  {
   "cell_type": "code",
   "execution_count": 203,
   "metadata": {},
   "outputs": [
    {
     "name": "stdout",
     "output_type": "stream",
     "text": [
      "_________________________________________________________________\n",
      "Layer (type)                 Output Shape              Param #   \n",
      "=================================================================\n",
      "conv2d_59 (Conv2D)           (None, 28, 28, 8)         208       \n",
      "_________________________________________________________________\n",
      "activation_99 (Activation)   (None, 28, 28, 8)         0         \n",
      "_________________________________________________________________\n",
      "max_pooling2d_55 (MaxPooling (None, 14, 14, 8)         0         \n",
      "_________________________________________________________________\n",
      "conv2d_60 (Conv2D)           (None, 14, 14, 16)        3216      \n",
      "_________________________________________________________________\n",
      "activation_100 (Activation)  (None, 14, 14, 16)        0         \n",
      "_________________________________________________________________\n",
      "max_pooling2d_56 (MaxPooling (None, 7, 7, 16)          0         \n",
      "_________________________________________________________________\n",
      "conv2d_61 (Conv2D)           (None, 7, 7, 32)          12832     \n",
      "_________________________________________________________________\n",
      "activation_101 (Activation)  (None, 7, 7, 32)          0         \n",
      "_________________________________________________________________\n",
      "max_pooling2d_57 (MaxPooling (None, 3, 3, 32)          0         \n",
      "_________________________________________________________________\n",
      "flatten_24 (Flatten)         (None, 288)               0         \n",
      "_________________________________________________________________\n",
      "dense_45 (Dense)             (None, 17)                4913      \n",
      "_________________________________________________________________\n",
      "activation_102 (Activation)  (None, 17)                0         \n",
      "_________________________________________________________________\n",
      "dense_46 (Dense)             (None, 10)                180       \n",
      "_________________________________________________________________\n",
      "activation_103 (Activation)  (None, 10)                0         \n",
      "=================================================================\n",
      "Total params: 21,349\n",
      "Trainable params: 21,349\n",
      "Non-trainable params: 0\n",
      "_________________________________________________________________\n"
     ]
    }
   ],
   "source": [
    "model.summary()"
   ]
  },
  {
   "cell_type": "code",
   "execution_count": 204,
   "metadata": {},
   "outputs": [
    {
     "name": "stdout",
     "output_type": "stream",
     "text": [
      "Epoch 1/13\n",
      "60000/60000 [==============================] - 32s 541us/step - loss: 0.3244 - acc: 0.9081\n",
      "Epoch 2/13\n",
      "60000/60000 [==============================] - 33s 555us/step - loss: 0.0809 - acc: 0.9758\n",
      "Epoch 3/13\n",
      "60000/60000 [==============================] - 32s 542us/step - loss: 0.0557 - acc: 0.9831\n",
      "Epoch 4/13\n",
      "60000/60000 [==============================] - 31s 522us/step - loss: 0.0441 - acc: 0.9862\n",
      "Epoch 5/13\n",
      "60000/60000 [==============================] - 32s 529us/step - loss: 0.0367 - acc: 0.9886\n",
      "Epoch 6/13\n",
      "60000/60000 [==============================] - 33s 554us/step - loss: 0.0302 - acc: 0.9905\n",
      "Epoch 7/13\n",
      "60000/60000 [==============================] - 33s 543us/step - loss: 0.0260 - acc: 0.9918\n",
      "Epoch 8/13\n",
      "60000/60000 [==============================] - 33s 546us/step - loss: 0.0216 - acc: 0.9932\n",
      "Epoch 9/13\n",
      "60000/60000 [==============================] - 35s 576us/step - loss: 0.0189 - acc: 0.9934\n",
      "Epoch 10/13\n",
      "60000/60000 [==============================] - 34s 559us/step - loss: 0.0177 - acc: 0.9942\n",
      "Epoch 11/13\n",
      "60000/60000 [==============================] - 32s 539us/step - loss: 0.0159 - acc: 0.9948\n",
      "Epoch 12/13\n",
      "60000/60000 [==============================] - 32s 541us/step - loss: 0.0138 - acc: 0.9953\n",
      "Epoch 13/13\n",
      "60000/60000 [==============================] - 34s 560us/step - loss: 0.0132 - acc: 0.9956\n"
     ]
    }
   ],
   "source": [
    "model_0=model.fit(x_train_norm,y_train,batch_size=150,epochs=13)"
   ]
  },
  {
   "cell_type": "code",
   "execution_count": 205,
   "metadata": {},
   "outputs": [],
   "source": [
    "## 想看看不同層數對他的影響 "
   ]
  },
  {
   "cell_type": "code",
   "execution_count": 206,
   "metadata": {},
   "outputs": [],
   "source": [
    "y_train1 = np_utils.to_categorical(y_train,10)\n",
    "y_test1 = np_utils.to_categorical(y_test,10)"
   ]
  },
  {
   "cell_type": "code",
   "execution_count": 207,
   "metadata": {},
   "outputs": [],
   "source": [
    "x_train_norm1=(x_train - x_train.min())/(x_train.max()-x_train.min())\n",
    "x_test_norm1=(x_test - x_test.min())/(x_test.max()-x_test.min())"
   ]
  },
  {
   "cell_type": "code",
   "execution_count": 208,
   "metadata": {},
   "outputs": [],
   "source": [
    "model_1 = Sequential ()\n",
    "model_1.add(Conv2D(8,(5,5),padding='same',input_shape=(28,28,1))) #第一層 4個 filter size 5*5 \n",
    "model_1.add(Activation('elu'))\n",
    "model_1.add(MaxPool2D(pool_size=(2,2)))\n",
    "\n",
    "model_1.add(Conv2D(16,(5,5),padding='same')) #第二層 8個 filter size 5*5 \n",
    "model_1.add(Activation('selu'))\n",
    "model_1.add(MaxPool2D(pool_size=(2,2)))\n",
    "\n",
    "model_1.add(Conv2D(32,(5,5),padding='same')) #第二層 8個 filter size 5*5 \n",
    "model_1.add(Activation('relu'))\n",
    "model_1.add(MaxPool2D(pool_size=(2,2)))"
   ]
  },
  {
   "cell_type": "code",
   "execution_count": 209,
   "metadata": {},
   "outputs": [],
   "source": [
    "model_1.add(Flatten())\n",
    "#model.add(Dense(87))\n",
    "#model.add(Activation('relu'))\n",
    "model_1.add(Dense(36))\n",
    "model_1.add(Activation('relu'))\n",
    "#model.add(Dense(8+9))\n",
    "#model.add(Activation('elu'))\n",
    "model_1.add(Dense(10))\n",
    "model_1.add(Activation('softmax'))"
   ]
  },
  {
   "cell_type": "code",
   "execution_count": 210,
   "metadata": {},
   "outputs": [],
   "source": [
    "model_1.compile(loss='categorical_crossentropy',\n",
    "                    optimizer=Adam(),\n",
    "                      metrics =['accuracy'])"
   ]
  },
  {
   "cell_type": "code",
   "execution_count": 211,
   "metadata": {},
   "outputs": [
    {
     "name": "stdout",
     "output_type": "stream",
     "text": [
      "Epoch 1/13\n",
      "60000/60000 [==============================] - 35s 579us/step - loss: 0.3241 - acc: 0.9014\n",
      "Epoch 2/13\n",
      "60000/60000 [==============================] - 35s 589us/step - loss: 0.0823 - acc: 0.9749\n",
      "Epoch 3/13\n",
      "60000/60000 [==============================] - 31s 522us/step - loss: 0.0594 - acc: 0.9814\n",
      "Epoch 4/13\n",
      "60000/60000 [==============================] - 32s 525us/step - loss: 0.0463 - acc: 0.9853\n",
      "Epoch 5/13\n",
      "60000/60000 [==============================] - 30s 505us/step - loss: 0.0374 - acc: 0.9883\n",
      "Epoch 6/13\n",
      "60000/60000 [==============================] - 31s 509us/step - loss: 0.0301 - acc: 0.9911\n",
      "Epoch 7/13\n",
      "60000/60000 [==============================] - 31s 511us/step - loss: 0.0269 - acc: 0.9910\n",
      "Epoch 8/13\n",
      "60000/60000 [==============================] - 31s 513us/step - loss: 0.0232 - acc: 0.9926\n",
      "Epoch 9/13\n",
      "60000/60000 [==============================] - 31s 518us/step - loss: 0.0197 - acc: 0.9940\n",
      "Epoch 10/13\n",
      "60000/60000 [==============================] - 31s 522us/step - loss: 0.0185 - acc: 0.9938\n",
      "Epoch 11/13\n",
      "60000/60000 [==============================] - 31s 520us/step - loss: 0.0156 - acc: 0.9946\n",
      "Epoch 12/13\n",
      "60000/60000 [==============================] - 32s 527us/step - loss: 0.0155 - acc: 0.9949\n",
      "Epoch 13/13\n",
      "60000/60000 [==============================] - 32s 526us/step - loss: 0.0135 - acc: 0.9957\n"
     ]
    }
   ],
   "source": [
    "model_1=model_1.fit(x_train_norm,y_train,batch_size=150,epochs=13)"
   ]
  },
  {
   "cell_type": "code",
   "execution_count": 217,
   "metadata": {},
   "outputs": [],
   "source": [
    "##來看看不同 activation 對他的影響"
   ]
  },
  {
   "cell_type": "code",
   "execution_count": 218,
   "metadata": {},
   "outputs": [],
   "source": [
    "model_2 = Sequential ()\n",
    "model_2.add(Conv2D(8,(5,5),padding='same',input_shape=(28,28,1))) #第一層 4個 filter size 5*5 \n",
    "model_2.add(Activation('selu'))\n",
    "model_2.add(MaxPool2D(pool_size=(2,2)))\n",
    "\n",
    "model_2.add(Conv2D(16,(5,5),padding='same')) #第二層 8個 filter size 5*5 \n",
    "model_2.add(Activation('selu'))\n",
    "model_2.add(MaxPool2D(pool_size=(2,2)))\n",
    "\n",
    "model_2.add(Conv2D(32,(5,5),padding='same')) #第二層 8個 filter size 5*5 \n",
    "model_2.add(Activation('selu'))\n",
    "model_2.add(MaxPool2D(pool_size=(2,2)))"
   ]
  },
  {
   "cell_type": "code",
   "execution_count": 219,
   "metadata": {},
   "outputs": [],
   "source": [
    "model_2.add(Flatten())\n",
    "#model.add(Dense(87))\n",
    "#model.add(Activation('relu'))\n",
    "model_2.add(Dense(36))\n",
    "model_2.add(Activation('selu'))\n",
    "#model.add(Dense(8+9))\n",
    "#model.add(Activation('elu'))\n",
    "model_2.add(Dense(10))\n",
    "model_2.add(Activation('softmax'))"
   ]
  },
  {
   "cell_type": "code",
   "execution_count": 220,
   "metadata": {},
   "outputs": [],
   "source": [
    "model_2.compile(loss='categorical_crossentropy',\n",
    "                    optimizer=Adam(),\n",
    "                      metrics =['accuracy'])"
   ]
  },
  {
   "cell_type": "code",
   "execution_count": 222,
   "metadata": {},
   "outputs": [
    {
     "name": "stdout",
     "output_type": "stream",
     "text": [
      "Epoch 1/13\n",
      "60000/60000 [==============================] - 39s 656us/step - loss: 0.2621 - acc: 0.9231\n",
      "Epoch 2/13\n",
      "60000/60000 [==============================] - 36s 608us/step - loss: 0.0676 - acc: 0.9791\n",
      "Epoch 3/13\n",
      "60000/60000 [==============================] - 37s 613us/step - loss: 0.0475 - acc: 0.9855\n",
      "Epoch 4/13\n",
      "60000/60000 [==============================] - 37s 622us/step - loss: 0.0389 - acc: 0.9876\n",
      "Epoch 5/13\n",
      "60000/60000 [==============================] - 38s 628us/step - loss: 0.0297 - acc: 0.9905\n",
      "Epoch 6/13\n",
      "60000/60000 [==============================] - 37s 619us/step - loss: 0.0268 - acc: 0.9912\n",
      "Epoch 7/13\n",
      "60000/60000 [==============================] - 37s 618us/step - loss: 0.0217 - acc: 0.9928\n",
      "Epoch 8/13\n",
      "60000/60000 [==============================] - 38s 639us/step - loss: 0.0176 - acc: 0.9946\n",
      "Epoch 9/13\n",
      "60000/60000 [==============================] - 40s 665us/step - loss: 0.0149 - acc: 0.9949\n",
      "Epoch 10/13\n",
      "60000/60000 [==============================] - 39s 654us/step - loss: 0.0106 - acc: 0.9967\n",
      "Epoch 11/13\n",
      "60000/60000 [==============================] - 41s 679us/step - loss: 0.0145 - acc: 0.9953\n",
      "Epoch 12/13\n",
      "60000/60000 [==============================] - 40s 665us/step - loss: 0.0115 - acc: 0.9964\n",
      "Epoch 13/13\n",
      "60000/60000 [==============================] - 39s 645us/step - loss: 0.0120 - acc: 0.9960\n"
     ]
    }
   ],
   "source": [
    "model_2=model_2.fit(x_train_norm,y_train,batch_size=150,epochs=13)"
   ]
  },
  {
   "cell_type": "code",
   "execution_count": 223,
   "metadata": {},
   "outputs": [],
   "source": [
    "## 如果都用 relu 會怎樣"
   ]
  },
  {
   "cell_type": "code",
   "execution_count": 224,
   "metadata": {},
   "outputs": [],
   "source": [
    "model_3 = Sequential ()\n",
    "model_3.add(Conv2D(8,(5,5),padding='same',input_shape=(28,28,1))) #第一層 4個 filter size 5*5 \n",
    "model_3.add(Activation('relu'))\n",
    "model_3.add(MaxPool2D(pool_size=(2,2)))\n",
    "\n",
    "model_3.add(Conv2D(16,(5,5),padding='same')) #第二層 8個 filter size 5*5 \n",
    "model_3.add(Activation('relu'))\n",
    "model_3.add(MaxPool2D(pool_size=(2,2)))\n",
    "\n",
    "model_3.add(Conv2D(32,(5,5),padding='same')) #第二層 8個 filter size 5*5 \n",
    "model_3.add(Activation('relu'))\n",
    "model_3.add(MaxPool2D(pool_size=(2,2)))"
   ]
  },
  {
   "cell_type": "code",
   "execution_count": 225,
   "metadata": {},
   "outputs": [],
   "source": [
    "model_3.add(Flatten())\n",
    "#model.add(Dense(87))\n",
    "#model.add(Activation('relu'))\n",
    "model_3.add(Dense(36))\n",
    "model_3.add(Activation('relu'))\n",
    "#model.add(Dense(8+9))\n",
    "#model.add(Activation('elu'))\n",
    "model_3.add(Dense(10))\n",
    "model_3.add(Activation('softmax'))"
   ]
  },
  {
   "cell_type": "code",
   "execution_count": 226,
   "metadata": {},
   "outputs": [],
   "source": [
    "model_3.compile(loss='categorical_crossentropy',\n",
    "                    optimizer=Adam(),\n",
    "                      metrics =['accuracy'])"
   ]
  },
  {
   "cell_type": "code",
   "execution_count": 227,
   "metadata": {},
   "outputs": [
    {
     "name": "stdout",
     "output_type": "stream",
     "text": [
      "Epoch 1/13\n",
      "60000/60000 [==============================] - 32s 529us/step - loss: 0.3804 - acc: 0.8847\n",
      "Epoch 2/13\n",
      "60000/60000 [==============================] - 35s 579us/step - loss: 0.0969 - acc: 0.9711\n",
      "Epoch 3/13\n",
      "60000/60000 [==============================] - 30s 504us/step - loss: 0.0683 - acc: 0.9789\n",
      "Epoch 4/13\n",
      "60000/60000 [==============================] - 31s 512us/step - loss: 0.0524 - acc: 0.9836\n",
      "Epoch 5/13\n",
      "60000/60000 [==============================] - 30s 501us/step - loss: 0.0434 - acc: 0.9863\n",
      "Epoch 6/13\n",
      "60000/60000 [==============================] - 30s 505us/step - loss: 0.0370 - acc: 0.9880\n",
      "Epoch 7/13\n",
      "60000/60000 [==============================] - 30s 505us/step - loss: 0.0317 - acc: 0.9902\n",
      "Epoch 8/13\n",
      "60000/60000 [==============================] - 30s 506us/step - loss: 0.0286 - acc: 0.9911\n",
      "Epoch 9/13\n",
      "60000/60000 [==============================] - 31s 524us/step - loss: 0.0244 - acc: 0.9919\n",
      "Epoch 10/13\n",
      "60000/60000 [==============================] - 31s 522us/step - loss: 0.0219 - acc: 0.9928\n",
      "Epoch 11/13\n",
      "60000/60000 [==============================] - 30s 504us/step - loss: 0.0189 - acc: 0.9940\n",
      "Epoch 12/13\n",
      "60000/60000 [==============================] - 30s 505us/step - loss: 0.0170 - acc: 0.9945\n",
      "Epoch 13/13\n",
      "60000/60000 [==============================] - 30s 506us/step - loss: 0.0160 - acc: 0.9951\n"
     ]
    }
   ],
   "source": [
    "model_3=model_3.fit(x_train_norm,y_train,batch_size=150,epochs=13)"
   ]
  },
  {
   "cell_type": "code",
   "execution_count": 228,
   "metadata": {},
   "outputs": [],
   "source": [
    "## 如果都用 elu"
   ]
  },
  {
   "cell_type": "code",
   "execution_count": 229,
   "metadata": {},
   "outputs": [],
   "source": [
    "model_4 = Sequential ()\n",
    "model_4.add(Conv2D(8,(5,5),padding='same',input_shape=(28,28,1))) #第一層 4個 filter size 5*5 \n",
    "model_4.add(Activation('elu'))\n",
    "model_4.add(MaxPool2D(pool_size=(2,2)))\n",
    "\n",
    "model_4.add(Conv2D(16,(5,5),padding='same')) #第二層 8個 filter size 5*5 \n",
    "model_4.add(Activation('elu'))\n",
    "model_4.add(MaxPool2D(pool_size=(2,2)))\n",
    "\n",
    "model_4.add(Conv2D(32,(5,5),padding='same')) #第二層 8個 filter size 5*5 \n",
    "model_4.add(Activation('elu'))\n",
    "model_4.add(MaxPool2D(pool_size=(2,2)))"
   ]
  },
  {
   "cell_type": "code",
   "execution_count": 230,
   "metadata": {},
   "outputs": [],
   "source": [
    "model_4.add(Flatten())\n",
    "#model.add(Dense(87))\n",
    "#model.add(Activation('relu'))\n",
    "model_4.add(Dense(36))\n",
    "model_4.add(Activation('elu'))\n",
    "#model.add(Dense(8+9))\n",
    "#model.add(Activation('elu'))\n",
    "model_4.add(Dense(10))\n",
    "model_4.add(Activation('softmax'))"
   ]
  },
  {
   "cell_type": "code",
   "execution_count": 231,
   "metadata": {},
   "outputs": [],
   "source": [
    "model_4.compile(loss='categorical_crossentropy',\n",
    "                    optimizer=Adam(),\n",
    "                      metrics =['accuracy'])"
   ]
  },
  {
   "cell_type": "code",
   "execution_count": 232,
   "metadata": {},
   "outputs": [
    {
     "name": "stdout",
     "output_type": "stream",
     "text": [
      "Epoch 1/13\n",
      "60000/60000 [==============================] - 31s 515us/step - loss: 0.2798 - acc: 0.9171\n",
      "Epoch 2/13\n",
      "60000/60000 [==============================] - 30s 493us/step - loss: 0.0687 - acc: 0.9788\n",
      "Epoch 3/13\n",
      "60000/60000 [==============================] - 29s 488us/step - loss: 0.0467 - acc: 0.9849\n",
      "Epoch 4/13\n",
      "60000/60000 [==============================] - 29s 488us/step - loss: 0.0361 - acc: 0.9886\n",
      "Epoch 5/13\n",
      "60000/60000 [==============================] - 30s 497us/step - loss: 0.0286 - acc: 0.9910\n",
      "Epoch 6/13\n",
      "60000/60000 [==============================] - 30s 493us/step - loss: 0.0231 - acc: 0.9925\n",
      "Epoch 7/13\n",
      "60000/60000 [==============================] - 30s 493us/step - loss: 0.0196 - acc: 0.9938\n",
      "Epoch 8/13\n",
      "60000/60000 [==============================] - 30s 497us/step - loss: 0.0171 - acc: 0.9942\n",
      "Epoch 9/13\n",
      "60000/60000 [==============================] - 31s 511us/step - loss: 0.0139 - acc: 0.9954\n",
      "Epoch 10/13\n",
      "60000/60000 [==============================] - 31s 525us/step - loss: 0.0131 - acc: 0.9959\n",
      "Epoch 11/13\n",
      "60000/60000 [==============================] - 31s 516us/step - loss: 0.0110 - acc: 0.9965\n",
      "Epoch 12/13\n",
      "60000/60000 [==============================] - 31s 510us/step - loss: 0.0099 - acc: 0.9966\n",
      "Epoch 13/13\n",
      "60000/60000 [==============================] - 31s 509us/step - loss: 0.0082 - acc: 0.9970\n"
     ]
    }
   ],
   "source": [
    "model_4=model_4.fit(x_train_norm,y_train,batch_size=150,epochs=13)"
   ]
  },
  {
   "cell_type": "code",
   "execution_count": 233,
   "metadata": {},
   "outputs": [],
   "source": [
    "## 試試看除了 Nadam 的"
   ]
  },
  {
   "cell_type": "code",
   "execution_count": 234,
   "metadata": {},
   "outputs": [],
   "source": [
    "from keras.optimizers import SGD,Adam,Nadam"
   ]
  },
  {
   "cell_type": "code",
   "execution_count": 235,
   "metadata": {},
   "outputs": [],
   "source": [
    "model_5 = Sequential ()\n",
    "model_5.add(Conv2D(8,(5,5),padding='same',input_shape=(28,28,1))) #第一層 4個 filter size 5*5 \n",
    "model_5.add(Activation('elu'))\n",
    "model_5.add(MaxPool2D(pool_size=(2,2)))\n",
    "\n",
    "model_5.add(Conv2D(16,(5,5),padding='same')) #第二層 8個 filter size 5*5 \n",
    "model_5.add(Activation('elu'))\n",
    "model_5.add(MaxPool2D(pool_size=(2,2)))\n",
    "\n",
    "model_5.add(Conv2D(32,(5,5),padding='same')) #第二層 8個 filter size 5*5 \n",
    "model_5.add(Activation('elu'))\n",
    "model_5.add(MaxPool2D(pool_size=(2,2)))"
   ]
  },
  {
   "cell_type": "code",
   "execution_count": 236,
   "metadata": {},
   "outputs": [],
   "source": [
    "model_5.add(Flatten())\n",
    "#model.add(Dense(87))\n",
    "#model.add(Activation('relu'))\n",
    "model_5.add(Dense(36))\n",
    "model_5.add(Activation('elu'))\n",
    "#model.add(Dense(8+9))\n",
    "#model.add(Activation('elu'))\n",
    "model_5.add(Dense(10))\n",
    "model_5.add(Activation('softmax'))"
   ]
  },
  {
   "cell_type": "code",
   "execution_count": 237,
   "metadata": {},
   "outputs": [],
   "source": [
    "model_5.compile(loss='categorical_crossentropy',\n",
    "                    optimizer=Nadam(),\n",
    "                      metrics =['accuracy'])"
   ]
  },
  {
   "cell_type": "code",
   "execution_count": 238,
   "metadata": {},
   "outputs": [
    {
     "name": "stdout",
     "output_type": "stream",
     "text": [
      "Epoch 1/13\n",
      "60000/60000 [==============================] - 32s 527us/step - loss: 0.2086 - acc: 0.9377\n",
      "Epoch 2/13\n",
      "60000/60000 [==============================] - 33s 550us/step - loss: 0.0562 - acc: 0.9827\n",
      "Epoch 3/13\n",
      "60000/60000 [==============================] - 29s 481us/step - loss: 0.0378 - acc: 0.9886\n",
      "Epoch 4/13\n",
      "60000/60000 [==============================] - 30s 496us/step - loss: 0.0295 - acc: 0.9904\n",
      "Epoch 5/13\n",
      "60000/60000 [==============================] - 30s 502us/step - loss: 0.0227 - acc: 0.9927\n",
      "Epoch 6/13\n",
      "60000/60000 [==============================] - 30s 502us/step - loss: 0.0192 - acc: 0.9937\n",
      "Epoch 7/13\n",
      "60000/60000 [==============================] - 31s 509us/step - loss: 0.0167 - acc: 0.9946\n",
      "Epoch 8/13\n",
      "60000/60000 [==============================] - 31s 523us/step - loss: 0.0136 - acc: 0.9956\n",
      "Epoch 9/13\n",
      "60000/60000 [==============================] - 30s 503us/step - loss: 0.0128 - acc: 0.9958\n",
      "Epoch 10/13\n",
      "60000/60000 [==============================] - 31s 512us/step - loss: 0.0115 - acc: 0.9963\n",
      "Epoch 11/13\n",
      "60000/60000 [==============================] - 30s 499us/step - loss: 0.0125 - acc: 0.9958\n",
      "Epoch 12/13\n",
      "60000/60000 [==============================] - 31s 520us/step - loss: 0.0111 - acc: 0.9964\n",
      "Epoch 13/13\n",
      "60000/60000 [==============================] - 30s 507us/step - loss: 0.0109 - acc: 0.9959\n"
     ]
    }
   ],
   "source": [
    "model_5=model_5.fit(x_train_norm,y_train,batch_size=150,epochs=13)"
   ]
  },
  {
   "cell_type": "code",
   "execution_count": null,
   "metadata": {},
   "outputs": [],
   "source": []
  },
  {
   "cell_type": "code",
   "execution_count": 266,
   "metadata": {},
   "outputs": [
    {
     "data": {
      "image/png": "[encoded data removed]",
      "text/plain": [
       "<Figure size 720x720 with 1 Axes>"
      ]
     },
     "metadata": {
      "needs_background": "light"
     },
     "output_type": "display_data"
    }
   ],
   "source": [
    "fig = plt.figure(figsize=(10,10))\n",
    "ax = plt.plot(model_0.history['acc'], marker = 'o', markersize = 4.0, lw = 0.75, label = 'Dense (8+9) with s,r,elu and adam' )\n",
    "ax = plt.plot(model_1.history['acc'], marker = 'o', markersize = 4.0, lw = 0.75, label = 'Dense (36) with s,r,elu and adam')\n",
    "ax = plt.plot(model_2.history['acc'], marker = 'o', markersize = 4.0, lw = 0.75, label = 'Dense (36) with selu and adam')\n",
    "ax = plt.plot(model_3.history['acc'], marker = 'o', markersize = 4.0, lw = 0.75, label = 'Dense (36) with relu and adam')\n",
    "ax = plt.plot(model_4.history['acc'], marker = 'o', markersize = 4.0, lw = 0.75, label = 'Dense (36) with elu and adam')\n",
    "ax = plt.plot(model_5.history['acc'], marker = 'o', markersize = 4.0, lw = 0.75, label = 'Dense (36) with elu and Nadam')\n",
    "ax = plt.legend(loc='best',prop={'size':15})\n",
    "ax = plt.xlim(-1,14) # x 軸range \n",
    "ax = plt.xticks(np.linspace(0,14,15)) # X軸刻度(開始,結束,有幾個空格)\n",
    "ax = plt.ylim(0.87,1) # y 軸 range\n",
    "ax = plt.yticks(np.linspace(0.87,1.0,14)) # y軸刻度(開始,結束,有幾個空格)\n",
    "ax = plt.title('有路有燈,前途光明', y=1.05)\n",
    "ax = plt.xlabel('Epochs')\n",
    "ax = plt.ylabel('Training Accuracy')"
   ]
  },
  {
   "cell_type": "code",
   "execution_count": null,
   "metadata": {},
   "outputs": [],
   "source": []
  }
 ],
 "metadata": {
  "kernelspec": {
   "display_name": "Python 3",
   "language": "python",
   "name": "python3"
  },
  "language_info": {
   "codemirror_mode": {
    "name": "ipython",
    "version": 3
   },
   "file_extension": ".py",
   "mimetype": "text/x-python",
   "name": "python",
   "nbconvert_exporter": "python",
   "pygments_lexer": "ipython3",
   "version": "3.7.1"
  }
 },
 "nbformat": 4,
 "nbformat_minor": 2
}
