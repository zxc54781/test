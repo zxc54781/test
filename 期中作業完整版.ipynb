{
 "cells": [
  {
   "cell_type": "markdown",
   "metadata": {},
   "source": [
    "## 先前的準備"
   ]
  },
  {
   "cell_type": "code",
   "execution_count": null,
   "metadata": {},
   "outputs": [],
   "source": [
    "%matplotlib inline\n",
    "\n",
    "import numpy as np\n",
    "import matplotlib.pyplot as plt\n",
    "import pandas as pd\n",
    "import matplotlib as mpl\n",
    "import locale\n",
    "import webbrowser\n",
    "from ipywidgets import interact_manual"
   ]
  },
  {
   "cell_type": "markdown",
   "metadata": {},
   "source": [
    "### 輸入網址"
   ]
  },
  {
   "cell_type": "code",
   "execution_count": 3,
   "metadata": {},
   "outputs": [],
   "source": [
    "url1 = 'https://www.nbastuffer.com/2018-2019-nba-team-stats/'\n",
    "df1 = pd.read_html(url1)\n",
    "\n",
    "home1=['選擇的第一支隊伍的場地','home','road']\n",
    "teams=['選擇隊伍','Boston','Brooklyn','Detroit','Indiana','Milwaukee','Orlando','Philadelphia','Toronto','Denver','Golden State','Houston','LA Clippers','Oklahoma City','Portland','San Antonio','Utah']\n"
   ]
  },
  {
   "cell_type": "markdown",
   "metadata": {},
   "source": [
    "### 數據處理"
   ]
  },
  {
   "cell_type": "code",
   "execution_count": 4,
   "metadata": {},
   "outputs": [
    {
     "name": "stderr",
     "output_type": "stream",
     "text": [
      "/anaconda3/lib/python3.7/site-packages/pandas/core/frame.py:3781: SettingWithCopyWarning: \n",
      "A value is trying to be set on a copy of a slice from a DataFrame\n",
      "\n",
      "See the caveats in the documentation: http://pandas.pydata.org/pandas-docs/stable/indexing.html#indexing-view-versus-copy\n",
      "  return super(DataFrame, self).rename(**kwargs)\n"
     ]
    }
   ],
   "source": [
    "df_playoff = df1[0]\n",
    "df_playoff = df_playoff.dropna(1)  #丟掉不要的\n",
    "#改名因為本來名字太長了\n",
    "df_playoff.rename(columns={ df_playoff.columns[14]: \"pWINR\",df_playoff.columns[16]: \"ACHA\",df_playoff.columns[15]: \"eWINR\",df_playoff.columns[4]: \"pPST_GM\",df_playoff.columns[5]: \"pAPST_GM\",df_playoff.columns[6]: \"pPSTDIFF\",df_playoff.columns[8]: \"pOEFF\",df_playoff.columns[9]: \"pDEFF\",df_playoff.columns[10]: \"pEDIFF\" }, inplace=True)\n",
    "df_playoff = df_playoff[['TEAM','CONF','GP','pPST_GM','pAPST_GM','pPSTDIFF','pOEFF','pDEFF','pEDIFF','pWINR','eWINR','ACHA']] #選出自己要的\n",
    "df_playoff.sort_values(by = ['CONF','TEAM'],inplace=True) #排序一下\n",
    "\n",
    "\n"
   ]
  },
  {
   "cell_type": "code",
   "execution_count": 5,
   "metadata": {},
   "outputs": [],
   "source": [
    "df_season = df1[1]\n",
    "df_season = df_season.dropna(1)  #丟掉不要的\n",
    "#改名\n",
    "df_season.rename(columns={ df_season.columns[18]: \"sWINR\",df_season.columns[19]: \"seWINR\",df_season.columns[20]: \"spWINR\",df_season.columns[21]: \"sACHA\",df_season.columns[4]: \"sPST_GM\",df_season.columns[5]: \"sAPST_GM\",df_season.columns[6]: \"sPSTDIFF\",df_season.columns[8]: \"sOEFF\",df_season.columns[9]: \"sDEFF\",df_season.columns[10]: \"sEDIFF\" }, inplace=True)\n",
    "df_season = df_season[['TEAM','CONF','GP','sPST_GM','sAPST_GM','sPSTDIFF','sOEFF','sDEFF','sEDIFF','sWINR','seWINR','spWINR','sACHA']]\n",
    "df_season.sort_values(\"TEAM\",inplace=True)#排列\n",
    "#取出東西區季後賽的組別(我這邊是直接看勝率)\n",
    "df_se_We=df_season[(df_season.CONF=='West') & (df_season.sWINR >=0.585)]\n",
    "df_se_Ea=df_season[(df_season.CONF=='East') & (df_season.sWINR >=0.500)]"
   ]
  },
  {
   "cell_type": "code",
   "execution_count": 6,
   "metadata": {},
   "outputs": [],
   "source": [
    "df_season=df_se_Ea.append(df_se_We,ignore_index=True).fillna(0) #合併表格"
   ]
  },
  {
   "cell_type": "markdown",
   "metadata": {},
   "source": [
    "### 主程式\n",
    "\n",
    "我的邏輯\n",
    "1.分別根據Ａ隊平均得分與Ｂ隊平均失分去如果差距大於運彩官網的讓分則得一分\n",
    "2.ACHA為最近的表現 正的話 給一分 負的話 減一分\n",
    "3.pW如果Ａ隊大於Ｂ隊 則Ａ隊給一分反之亦然\n",
    "4.ab6 則為如果雙方表現好的話其隊伍的勝率,我ㄐㄧ"
   ]
  },
  {
   "cell_type": "code",
   "execution_count": 11,
   "metadata": {},
   "outputs": [
    {
     "name": "stdout",
     "output_type": "stream",
     "text": [
      "3\n"
     ]
    },
    {
     "data": {
      "application/vnd.jupyter.widget-view+json": {
       "model_id": "4f7eba47d6fb4608a1f3c6e7822f966c",
       "version_major": 2,
       "version_minor": 0
      },
      "text/plain": [
       "interactive(children=(Dropdown(description='teamA', options=('選擇隊伍', 'Boston', 'Brooklyn', 'Detroit', 'Indiana…"
      ]
     },
     "metadata": {},
     "output_type": "display_data"
    }
   ],
   "source": [
    "point=int(input())\n",
    "\n",
    "\n",
    "\n",
    "def score(teamA=' ',teamB=' ',home=' '):\n",
    "    \n",
    "    df_wnat1p = df_playoff[(df_playoff.TEAM ==f\"{teamA}\")|(df_playoff.TEAM ==f\"{teamB}\")]\n",
    "    pa=df_wnat1p.iat[0,5] - point\n",
    "    pb=df_wnat1p.iat[0,5] - point\n",
    "    ACHAa=df_wnat1p.iat[0,11]\n",
    "    ACHAb=df_wnat1p.iat[1,11]\n",
    "    pWa=df_wnat1p.iat[0,9]\n",
    "    pWb=df_wnat1p.iat[1,9]\n",
    "    a6=df_wnat1p.iat[0,10] \n",
    "    b6=df_wnat1p.iat[1,10] \n",
    "\n",
    "    if pa<=0 :\n",
    "        a1=0\n",
    "        b1=1\n",
    "    else :\n",
    "        a1=1\n",
    "        b1=0\n",
    "\n",
    "    if pb<0 :\n",
    "        a2=0\n",
    "        b2=1\n",
    "    else :\n",
    "        a2=1\n",
    "        b2=0\n",
    "\n",
    "    if ACHAa<=0 :\n",
    "        a3=-1\n",
    "    else :\n",
    "        a3=1\n",
    "\n",
    "    if ACHAb<=0 :\n",
    "        b3=-1\n",
    "    else :\n",
    "        b3=1\n",
    "\n",
    "    if pWa < pWb :\n",
    "        a4=0\n",
    "        b4=1\n",
    "    elif pWa == pWb :\n",
    "        a4=0\n",
    "        b4=0\n",
    "    else  :\n",
    "        a4=1\n",
    "        b4=0\n",
    "\n",
    "    if home=='yes' :\n",
    "        a5=0.5\n",
    "        b5=0\n",
    "    else :\n",
    "        a5=0\n",
    "        b5=0.5\n",
    "\n",
    "    A=((a1+a2+a3+a4+a5)/4+a6)*100\n",
    "    B=((b1+b2+b3+b4+b5)/4+b6)*100\n",
    "\n",
    "    print (f'{teamA}''評分為'f'{A}''\\n' f'{teamB}''評分為'f'{B}')\n",
    "\n",
    "\n",
    "interact_manual(score, teamA=teams, teamB=teams,home=home1);"
   ]
  },
  {
   "cell_type": "code",
   "execution_count": null,
   "metadata": {},
   "outputs": [],
   "source": []
  }
 ],
 "metadata": {
  "kernelspec": {
   "display_name": "Python 3",
   "language": "python",
   "name": "python3"
  },
  "language_info": {
   "codemirror_mode": {
    "name": "ipython",
    "version": 3
   },
   "file_extension": ".py",
   "mimetype": "text/x-python",
   "name": "python",
   "nbconvert_exporter": "python",
   "pygments_lexer": "ipython3",
   "version": "3.7.1"
  }
 },
 "nbformat": 4,
 "nbformat_minor": 2
}
