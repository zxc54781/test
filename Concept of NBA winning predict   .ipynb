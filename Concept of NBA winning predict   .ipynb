{
 "cells": [
  {
   "cell_type": "markdown",
   "metadata": {},
   "source": [
    "資料來源及參考網站 ：https://www.nbastuffer.com/analytics-101/"
   ]
  },
  {
   "cell_type": "markdown",
   "metadata": {},
   "source": [
    "# INPUT"
   ]
  },
  {
   "cell_type": "markdown",
   "metadata": {},
   "source": [
    "#### 分別為以下四個函數的計算結果為 input ,資料來源的部分 https://www.nbastuffer.com/2018-2019-nba-team-stats/\n",
    "\n",
    "#### 只是比較尷尬的是後面兩個 formula 需要用allowed point的數據 但這是近兩年才開始計算的ＱＱ\n",
    "\n",
    "#### 不過沒關係 剛好可以做個對照（？） 加上那兩個output看是否會比較準ＸＤＤ\n",
    "\n",
    "#### 但前面兩個就不用擔心了，需要用到的只有勝率以及勝分差所以應該是妥妥的可以預測哦！"
   ]
  },
  {
   "cell_type": "markdown",
   "metadata": {},
   "source": [
    "## Expected Winning Percentage (Log5)\n",
    "\n",
    "#### Definition： When two teams meet, we can calculate the expected winning percentages using the Log5 formula.\n",
    "\n",
    "### Formula: WINNING PERCENTAGE OF TEAM A against TEAM B = W%(A)*(1 – W%(B))/(W%(A)*(1 – W%(B)) + (1 – W%(A))*W%(B))\n",
    "\n"
   ]
  },
  {
   "cell_type": "code",
   "execution_count": null,
   "metadata": {},
   "outputs": [],
   "source": []
  },
  {
   "cell_type": "markdown",
   "metadata": {},
   "source": [
    "## Projected Winning Percentage\n",
    "\n",
    "#### Definition： Projected Winning Percentage is a formula that simply uses a team’s net overall point differential rather than points scored and point allowed.\n",
    "\n",
    "### Formula: Projected Win%=[(Points Differential)*2.7)+41]/82\n",
    "\n",
    "#### remark：Each point of differential translates to 2.7 wins over the course of the season.\n"
   ]
  },
  {
   "cell_type": "code",
   "execution_count": null,
   "metadata": {},
   "outputs": [],
   "source": []
  },
  {
   "cell_type": "markdown",
   "metadata": {},
   "source": [
    "## Pythagorean Winning Percentage\n",
    "\n",
    "#### Definition： The method that gives an expected winning percentage using the ratio of a team’s wins and losses is related to the number of points scored and allowed.\n",
    "\n",
    "### Formula: Expected Winning Percentage Formula=(Points Scored)^(16.5)/[Points Scored)^(16.5) + (Points Allowed)^(16.5)] \n",
    "\n"
   ]
  },
  {
   "cell_type": "code",
   "execution_count": null,
   "metadata": {},
   "outputs": [],
   "source": []
  },
  {
   "cell_type": "markdown",
   "metadata": {},
   "source": [
    "## Correlated Gaussian Winning Percentage\n",
    "\n",
    "#### Definition：Correlated Gaussian Winning Percentage is the method that relates winning percentage to points scored, points allowed, the standard deviations of points scored and allowed, and the correlation between points scored and allowed.\n",
    "\n",
    "### Formula: Correlated Gaussian Winning Percentage Formula=NORM{(Points Scored-Points Allowed)/[Standart Deviation(Points Scored-Points Allowed)]} Where NORM means to take the percentile of a normal distribution.\n",
    "\n"
   ]
  },
  {
   "cell_type": "code",
   "execution_count": null,
   "metadata": {},
   "outputs": [],
   "source": []
  },
  {
   "cell_type": "markdown",
   "metadata": {},
   "source": [
    "# OUTPUT"
   ]
  },
  {
   "cell_type": "markdown",
   "metadata": {},
   "source": [
    "#### "
   ]
  }
 ],
 "metadata": {
  "kernelspec": {
   "display_name": "Python 3",
   "language": "python",
   "name": "python3"
  },
  "language_info": {
   "codemirror_mode": {
    "name": "ipython",
    "version": 3
   },
   "file_extension": ".py",
   "mimetype": "text/x-python",
   "name": "python",
   "nbconvert_exporter": "python",
   "pygments_lexer": "ipython3",
   "version": "3.7.1"
  }
 },
 "nbformat": 4,
 "nbformat_minor": 2
}
