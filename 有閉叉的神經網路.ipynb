{
 "cells": [
  {
   "cell_type": "code",
   "execution_count": 161,
   "metadata": {
    "scrolled": true
   },
   "outputs": [
    {
     "name": "stdout",
     "output_type": "stream",
     "text": [
      "env: KERAS_BACKEND=tensorflow\n"
     ]
    }
   ],
   "source": [
    "%matplotlib inline\n",
    "%env KERAS_BACKEND = tensorflow\n",
    "import numpy as np\n",
    "import matplotlib.pyplot as plt\n",
    "from keras.datasets import mnist\n",
    "from keras.utils import np_utils\n",
    "from keras.layers.advanced_activations import PReLU"
   ]
  },
  {
   "cell_type": "code",
   "execution_count": 162,
   "metadata": {},
   "outputs": [],
   "source": [
    "(x_train,y_train),(x_test,y_test) = mnist.load_data()"
   ]
  },
  {
   "cell_type": "markdown",
   "metadata": {},
   "source": [
    "## 歸一下"
   ]
  },
  {
   "cell_type": "code",
   "execution_count": 163,
   "metadata": {},
   "outputs": [],
   "source": [
    "x_train_norm=(x_train - x_train.min())/(x_train.max()-x_train.min())\n",
    "x_test_norm=(x_test - x_test.min())/(x_test.max()-x_test.min())"
   ]
  },
  {
   "cell_type": "code",
   "execution_count": 164,
   "metadata": {},
   "outputs": [],
   "source": [
    "x_train= x_train_norm.reshape(60000,28*28)\n",
    "x_test= x_test_norm.reshape(10000,28*28)"
   ]
  },
  {
   "cell_type": "markdown",
   "metadata": {},
   "source": [
    "## 把y 變成 一條的形式[.......]"
   ]
  },
  {
   "cell_type": "code",
   "execution_count": 165,
   "metadata": {},
   "outputs": [],
   "source": [
    "y_train = np_utils.to_categorical(y_train,10)\n",
    "y_test = np_utils.to_categorical(y_test,10)"
   ]
  },
  {
   "cell_type": "markdown",
   "metadata": {},
   "source": [
    "## 選擇自己要用來組合的函數"
   ]
  },
  {
   "cell_type": "code",
   "execution_count": 166,
   "metadata": {},
   "outputs": [],
   "source": [
    "from keras.models import Sequential\n",
    "from keras.layers import Dense, Activation\n",
    "from keras.optimizers import SGD\n",
    "from keras import losses"
   ]
  },
  {
   "cell_type": "markdown",
   "metadata": {},
   "source": [
    "## 由於要讓他分岔 所以import 以下函數"
   ]
  },
  {
   "cell_type": "code",
   "execution_count": 167,
   "metadata": {},
   "outputs": [],
   "source": [
    "from keras.models import Model\n",
    "from keras.layers import Input\n",
    "from keras.layers import concatenate, add"
   ]
  },
  {
   "cell_type": "markdown",
   "metadata": {},
   "source": [
    "## 定義function"
   ]
  },
  {
   "cell_type": "code",
   "execution_count": 168,
   "metadata": {},
   "outputs": [],
   "source": [
    "fa_1 = Dense(487, activation='relu')\n",
    "fa_2 = Dense(520, activation='relu')\n",
    "\n",
    "fb_1 = Dense(8+9, activation='elu')\n",
    "fb_2 = Dense(87, activation='relu')\n",
    "fb_3 = Dense(5, activation='selu')\n",
    "fb_4 = Dense(9, activation='elu')\n",
    "fb_5 = Dense(4, activation='relu')\n",
    "fb_6 = Dense(20, activation='elu')\n",
    "\n",
    "fc_1 = Dense(9, activation='selu')\n",
    "fc_2 = Dense(3, activation='elu')\n",
    "fc_3 = Dense(6, activation='selu')\n",
    "\n",
    "fd_1 = Dense(10, activation='softmax')\n",
    "\n"
   ]
  },
  {
   "cell_type": "markdown",
   "metadata": {},
   "source": [
    "## 我們需要先定義輸入！"
   ]
  },
  {
   "cell_type": "code",
   "execution_count": 169,
   "metadata": {},
   "outputs": [],
   "source": [
    "x = Input(shape=(784,))"
   ]
  },
  {
   "cell_type": "markdown",
   "metadata": {},
   "source": [
    "## 定義神經元"
   ]
  },
  {
   "cell_type": "code",
   "execution_count": 170,
   "metadata": {},
   "outputs": [],
   "source": [
    "#建立function 輸入、輸出間的關係\n",
    "ha_1 = fa_1(x)\n",
    "ha_2 = fa_2(x)\n",
    "\n",
    "hb_1 = fa_1(x)\n",
    "hb_2 = fa_1(x)\n",
    "\n",
    "hb_3 = fa_2(x)\n",
    "hb_4 = fa_2(x)\n",
    "hb_5 = fa_2(x)\n",
    "hb_6 = fa_2(x)\n",
    "\n",
    "#合起來\n",
    "hc_1 = fc_1(concatenate([hb_1,hb_2]))\n",
    "hc_2= fc_2(concatenate([hb_3,hb_4,hb_5,hb_6]))\n",
    "hc_3= fc_3(concatenate([hb_3,hb_4,hb_5,hb_6]))\n",
    "#再次合起來\n",
    "\n",
    "hc_4= fd_1(concatenate([hc_1,hc_2,hc_3]))\n",
    "\n",
    "\n",
    "\n",
    "y=hc_4\n"
   ]
  },
  {
   "cell_type": "markdown",
   "metadata": {},
   "source": [
    "## 偷看一下  好像有點多 反正是電腦算沒差拉"
   ]
  },
  {
   "cell_type": "code",
   "execution_count": 171,
   "metadata": {},
   "outputs": [
    {
     "name": "stdout",
     "output_type": "stream",
     "text": [
      "__________________________________________________________________________________________________\n",
      "Layer (type)                    Output Shape         Param #     Connected to                     \n",
      "==================================================================================================\n",
      "input_12 (InputLayer)           (None, 784)          0                                            \n",
      "__________________________________________________________________________________________________\n",
      "dense_232 (Dense)               (None, 487)          382295      input_12[0][0]                   \n",
      "                                                                 input_12[0][0]                   \n",
      "__________________________________________________________________________________________________\n",
      "dense_233 (Dense)               (None, 520)          408200      input_12[0][0]                   \n",
      "                                                                 input_12[0][0]                   \n",
      "                                                                 input_12[0][0]                   \n",
      "                                                                 input_12[0][0]                   \n",
      "__________________________________________________________________________________________________\n",
      "concatenate_45 (Concatenate)    (None, 974)          0           dense_232[1][0]                  \n",
      "                                                                 dense_232[2][0]                  \n",
      "__________________________________________________________________________________________________\n",
      "concatenate_46 (Concatenate)    (None, 2080)         0           dense_233[1][0]                  \n",
      "                                                                 dense_233[2][0]                  \n",
      "                                                                 dense_233[3][0]                  \n",
      "                                                                 dense_233[4][0]                  \n",
      "__________________________________________________________________________________________________\n",
      "concatenate_47 (Concatenate)    (None, 2080)         0           dense_233[1][0]                  \n",
      "                                                                 dense_233[2][0]                  \n",
      "                                                                 dense_233[3][0]                  \n",
      "                                                                 dense_233[4][0]                  \n",
      "__________________________________________________________________________________________________\n",
      "dense_240 (Dense)               (None, 9)            8775        concatenate_45[0][0]             \n",
      "__________________________________________________________________________________________________\n",
      "dense_241 (Dense)               (None, 3)            6243        concatenate_46[0][0]             \n",
      "__________________________________________________________________________________________________\n",
      "dense_242 (Dense)               (None, 6)            12486       concatenate_47[0][0]             \n",
      "__________________________________________________________________________________________________\n",
      "concatenate_48 (Concatenate)    (None, 18)           0           dense_240[0][0]                  \n",
      "                                                                 dense_241[0][0]                  \n",
      "                                                                 dense_242[0][0]                  \n",
      "__________________________________________________________________________________________________\n",
      "dense_243 (Dense)               (None, 10)           190         concatenate_48[0][0]             \n",
      "==================================================================================================\n",
      "Total params: 818,189\n",
      "Trainable params: 818,189\n",
      "Non-trainable params: 0\n",
      "__________________________________________________________________________________________________\n"
     ]
    }
   ],
   "source": [
    "model = Model(x, y)\n",
    "model.summary()"
   ]
  },
  {
   "cell_type": "markdown",
   "metadata": {},
   "source": [
    "## 合體囉 "
   ]
  },
  {
   "cell_type": "code",
   "execution_count": 173,
   "metadata": {},
   "outputs": [],
   "source": [
    "model.compile(loss='mean_squared_error',\n",
    "                    optimizer=SGD(lr=0.87),\n",
    "                      metrics =['accuracy'])"
   ]
  },
  {
   "cell_type": "code",
   "execution_count": null,
   "metadata": {},
   "outputs": [
    {
     "name": "stdout",
     "output_type": "stream",
     "text": [
      "Train on 60000 samples, validate on 10000 samples\n",
      "Epoch 1/25\n",
      "60000/60000 [==============================] - 9s 156us/step - loss: 0.0198 - acc: 0.8764 - val_loss: 0.0108 - val_acc: 0.9311\n",
      "Epoch 2/25\n",
      "60000/60000 [==============================] - 8s 136us/step - loss: 0.0098 - acc: 0.9378 - val_loss: 0.0086 - val_acc: 0.9446\n",
      "Epoch 3/25\n",
      "60000/60000 [==============================] - 8s 137us/step - loss: 0.0076 - acc: 0.9527 - val_loss: 0.0071 - val_acc: 0.9540\n",
      "Epoch 4/25\n",
      "60000/60000 [==============================] - 8s 137us/step - loss: 0.0061 - acc: 0.9620 - val_loss: 0.0060 - val_acc: 0.9606\n",
      "Epoch 5/25\n",
      "60000/60000 [==============================] - 8s 139us/step - loss: 0.0051 - acc: 0.9688 - val_loss: 0.0054 - val_acc: 0.9658\n",
      "Epoch 6/25\n",
      "60000/60000 [==============================] - 8s 139us/step - loss: 0.0044 - acc: 0.9738 - val_loss: 0.0049 - val_acc: 0.9688\n",
      "Epoch 7/25\n",
      "60000/60000 [==============================] - 8s 140us/step - loss: 0.0038 - acc: 0.9775 - val_loss: 0.0051 - val_acc: 0.9664\n",
      "Epoch 8/25\n",
      "60000/60000 [==============================] - 9s 142us/step - loss: 0.0033 - acc: 0.9817 - val_loss: 0.0042 - val_acc: 0.9731\n",
      "Epoch 9/25\n",
      "60000/60000 [==============================] - 8s 141us/step - loss: 0.0029 - acc: 0.9837 - val_loss: 0.0040 - val_acc: 0.9747\n",
      "Epoch 10/25\n",
      "60000/60000 [==============================] - 8s 142us/step - loss: 0.0026 - acc: 0.9855 - val_loss: 0.0042 - val_acc: 0.9730\n",
      "Epoch 11/25\n",
      "60000/60000 [==============================] - 9s 143us/step - loss: 0.0023 - acc: 0.9873 - val_loss: 0.0037 - val_acc: 0.9765\n",
      "Epoch 12/25\n",
      "60000/60000 [==============================] - 9s 144us/step - loss: 0.0021 - acc: 0.9890 - val_loss: 0.0037 - val_acc: 0.9760\n",
      "Epoch 13/25\n",
      "60000/60000 [==============================] - 9s 144us/step - loss: 0.0019 - acc: 0.9901 - val_loss: 0.0036 - val_acc: 0.9764\n",
      "Epoch 14/25\n",
      "60000/60000 [==============================] - 9s 147us/step - loss: 0.0017 - acc: 0.9918 - val_loss: 0.0034 - val_acc: 0.9782\n",
      "Epoch 15/25\n",
      "60000/60000 [==============================] - 9s 144us/step - loss: 0.0015 - acc: 0.9926 - val_loss: 0.0033 - val_acc: 0.9792\n",
      "Epoch 16/25\n",
      "60000/60000 [==============================] - 9s 145us/step - loss: 0.0013 - acc: 0.9936 - val_loss: 0.0034 - val_acc: 0.9788\n",
      "Epoch 17/25\n",
      "60000/60000 [==============================] - 9s 147us/step - loss: 0.0012 - acc: 0.9942 - val_loss: 0.0032 - val_acc: 0.9792\n",
      "Epoch 18/25\n",
      "60000/60000 [==============================] - 9s 144us/step - loss: 0.0011 - acc: 0.9948 - val_loss: 0.0031 - val_acc: 0.9796\n",
      "Epoch 19/25\n",
      "60000/60000 [==============================] - 9s 146us/step - loss: 0.0010 - acc: 0.9951 - val_loss: 0.0031 - val_acc: 0.9797\n",
      "Epoch 20/25\n",
      "60000/60000 [==============================] - 9s 146us/step - loss: 9.2852e-04 - acc: 0.9958 - val_loss: 0.0031 - val_acc: 0.9805\n",
      "Epoch 21/25\n",
      "60000/60000 [==============================] - 9s 145us/step - loss: 8.6427e-04 - acc: 0.9960 - val_loss: 0.0031 - val_acc: 0.9802\n",
      "Epoch 22/25\n",
      "60000/60000 [==============================] - 9s 150us/step - loss: 8.1646e-04 - acc: 0.9963 - val_loss: 0.0030 - val_acc: 0.9809\n",
      "Epoch 23/25\n",
      "60000/60000 [==============================] - 9s 147us/step - loss: 7.6146e-04 - acc: 0.9964 - val_loss: 0.0030 - val_acc: 0.9812\n",
      "Epoch 24/25\n",
      "60000/60000 [==============================] - 9s 147us/step - loss: 7.0524e-04 - acc: 0.9966 - val_loss: 0.0030 - val_acc: 0.9810\n",
      "Epoch 25/25\n",
      "21200/60000 [=========>....................] - ETA: 5s - loss: 6.8385e-04 - acc: 0.9967"
     ]
    }
   ],
   "source": [
    "model_his=model.fit(x_train,y_train,batch_size = 100,\n",
    "                            epochs = 25,\n",
    "                            verbose =1,\n",
    "                            validation_data = (x_test,y_test))"
   ]
  },
  {
   "cell_type": "code",
   "execution_count": 160,
   "metadata": {},
   "outputs": [
    {
     "data": {
      "text/plain": [
       "<function matplotlib.pyplot.show(*args, **kw)>"
      ]
     },
     "execution_count": 160,
     "metadata": {},
     "output_type": "execute_result"
    },
    {
     "data": {
      "image/png": "[encoded data removed]",
      "text/plain": [
       "<Figure size 432x288 with 1 Axes>"
      ]
     },
     "metadata": {
      "needs_background": "light"
     },
     "output_type": "display_data"
    }
   ],
   "source": [
    "plt.plot(model_his.history['acc'])\n",
    "plt.title('model accuracy')\n",
    "plt.ylabel('accuracy')\n",
    "plt.xlabel('epoch')\n",
    "plt.legend([\"accuracy\"],loc = \"best\")\n",
    "plt.show"
   ]
  },
  {
   "cell_type": "code",
   "execution_count": null,
   "metadata": {},
   "outputs": [],
   "source": []
  },
  {
   "cell_type": "code",
   "execution_count": null,
   "metadata": {},
   "outputs": [],
   "source": []
  }
 ],
 "metadata": {
  "kernelspec": {
   "display_name": "Python 3",
   "language": "python",
   "name": "python3"
  },
  "language_info": {
   "codemirror_mode": {
    "name": "ipython",
    "version": 3
   },
   "file_extension": ".py",
   "mimetype": "text/x-python",
   "name": "python",
   "nbconvert_exporter": "python",
   "pygments_lexer": "ipython3",
   "version": "3.7.1"
  }
 },
 "nbformat": 4,
 "nbformat_minor": 2
}
