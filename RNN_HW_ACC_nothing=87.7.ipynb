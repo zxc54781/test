{
 "cells": [
  {
   "cell_type": "markdown",
   "metadata": {},
   "source": [
    "## 其實我也沒變什麼 我也不知道為什麼會這樣ＱＱ\n",
    "\n",
    "### 有試過 dropout 可是效果不好（如果要drop建議 N跟Ｋ用大一點\n",
    "\n",
    "### 不過最高只能到87.7 真的是87分不能再高 我非常難過\n",
    "\n",
    "### 我有增加 EarlyStopping 一般而言 大約都在2~3次就超過就會過度訓練了！！\n",
    "\n",
    "### Nadam可以試試看 不過跟adam差不多我覺得\n",
    "\n",
    "### 我的maxlen 有改 因為總有的人屁話很多最後才說結論ＸＤ"
   ]
  },
  {
   "cell_type": "code",
   "execution_count": 206,
   "metadata": {},
   "outputs": [
    {
     "name": "stdout",
     "output_type": "stream",
     "text": [
      "env: KERAS_BACKEND=tensorflow\n"
     ]
    }
   ],
   "source": [
    "%env KERAS_BACKEND=tensorflow\n",
    "%matplotlib inline\n"
   ]
  },
  {
   "cell_type": "code",
   "execution_count": 192,
   "metadata": {},
   "outputs": [],
   "source": [
    "import numpy as np \n",
    "import matplotlib.pyplot as plt\n",
    "from keras.datasets import imdb\n",
    "from keras.models import Sequential\n",
    "from keras.layers import Dense,Embedding,LSTM,Dropout\n",
    "from keras.callbacks import EarlyStopping\n",
    "from keras.preprocessing import sequence\n",
    "from keras.utils import np_utils"
   ]
  },
  {
   "cell_type": "code",
   "execution_count": 193,
   "metadata": {},
   "outputs": [],
   "source": [
    "(x_train,y_train),(x_test,y_test) = imdb.load_data(num_words=10000)"
   ]
  },
  {
   "cell_type": "code",
   "execution_count": 194,
   "metadata": {},
   "outputs": [
    {
     "data": {
      "text/plain": [
       "(25000,)"
      ]
     },
     "execution_count": 194,
     "metadata": {},
     "output_type": "execute_result"
    }
   ],
   "source": [
    "x_train.shape"
   ]
  },
  {
   "cell_type": "code",
   "execution_count": 195,
   "metadata": {},
   "outputs": [],
   "source": [
    "x_train=sequence.pad_sequences(x_train,maxlen=250)\n",
    "x_test=sequence.pad_sequences(x_test,maxlen=250)"
   ]
  },
  {
   "cell_type": "code",
   "execution_count": 196,
   "metadata": {},
   "outputs": [
    {
     "name": "stdout",
     "output_type": "stream",
     "text": [
      "訓練總筆數： 25000\n",
      "測試總比數： 25000\n"
     ]
    }
   ],
   "source": [
    "print('訓練總筆數：' , len(x_train))\n",
    "print('測試總比數：',len(x_test))"
   ]
  },
  {
   "cell_type": "code",
   "execution_count": 197,
   "metadata": {},
   "outputs": [],
   "source": [
    "N=100\n",
    "K=10\n",
    "D=5"
   ]
  },
  {
   "cell_type": "code",
   "execution_count": 198,
   "metadata": {},
   "outputs": [],
   "source": [
    "f1 =[ Embedding(10000,N)]\n",
    "#z1=f1(x)\n",
    "f2=[LSTM(K)]\n",
    "#z2=f2(z1)\n",
    "#f3=[Dense(10, activation='relu')]\n",
    "#z3=f3(z2)\n",
    "#f4=[Dense(10, activation='elu')]\n",
    "#z4=f4(z3)\n",
    "f5=[Dense(1, activation='sigmoid')]\n",
    "#y=f5(z4)\n",
    "\n",
    "#patience 沒有進步之後 多走幾步就停 \n",
    "#verbose\n"
   ]
  },
  {
   "cell_type": "code",
   "execution_count": 199,
   "metadata": {},
   "outputs": [],
   "source": [
    "model = Sequential(f1+f2+f5)"
   ]
  },
  {
   "cell_type": "code",
   "execution_count": 200,
   "metadata": {},
   "outputs": [
    {
     "name": "stdout",
     "output_type": "stream",
     "text": [
      "_________________________________________________________________\n",
      "Layer (type)                 Output Shape              Param #   \n",
      "=================================================================\n",
      "embedding_32 (Embedding)     (None, None, 100)         1000000   \n",
      "_________________________________________________________________\n",
      "lstm_31 (LSTM)               (None, 10)                4440      \n",
      "_________________________________________________________________\n",
      "dense_49 (Dense)             (None, 1)                 11        \n",
      "=================================================================\n",
      "Total params: 1,004,451\n",
      "Trainable params: 1,004,451\n",
      "Non-trainable params: 0\n",
      "_________________________________________________________________\n"
     ]
    }
   ],
   "source": [
    "model.summary()"
   ]
  },
  {
   "cell_type": "code",
   "execution_count": 201,
   "metadata": {},
   "outputs": [],
   "source": [
    "model.compile( optimizer='Nadam',\n",
    "             loss='binary_crossentropy',\n",
    "             metrics=['acc'])"
   ]
  },
  {
   "cell_type": "code",
   "execution_count": 202,
   "metadata": {},
   "outputs": [],
   "source": [
    "eralystop=EarlyStopping(monitor='val_acc', mode='auto',patience=0, verbose=2,restore_best_weights = True)"
   ]
  },
  {
   "cell_type": "code",
   "execution_count": 203,
   "metadata": {},
   "outputs": [
    {
     "name": "stdout",
     "output_type": "stream",
     "text": [
      "Train on 25000 samples, validate on 25000 samples\n",
      "Epoch 1/5\n",
      "25000/25000 [==============================] - 130s 5ms/step - loss: 0.4365 - acc: 0.7999 - val_loss: 0.3262 - val_acc: 0.8641\n",
      "Epoch 2/5\n",
      "25000/25000 [==============================] - 76s 3ms/step - loss: 0.2493 - acc: 0.9052 - val_loss: 0.3026 - val_acc: 0.8770\n",
      "Epoch 3/5\n",
      "25000/25000 [==============================] - 90s 4ms/step - loss: 0.1749 - acc: 0.9358 - val_loss: 0.3280 - val_acc: 0.8618\n",
      "Restoring model weights from the end of the best epoch\n",
      "Epoch 00003: early stopping\n"
     ]
    },
    {
     "data": {
      "text/plain": [
       "<keras.callbacks.History at 0xb4289dd30>"
      ]
     },
     "execution_count": 203,
     "metadata": {},
     "output_type": "execute_result"
    }
   ],
   "source": [
    "model.fit(x_train,y_train,\n",
    "         batch_size=100,\n",
    "         epochs=5,\n",
    "          validation_data=(x_test,y_test),\n",
    "         callbacks=[eralystop])"
   ]
  },
  {
   "cell_type": "code",
   "execution_count": 204,
   "metadata": {},
   "outputs": [
    {
     "name": "stdout",
     "output_type": "stream",
     "text": [
      "25000/25000 [==============================] - 29s 1ms/step\n"
     ]
    },
    {
     "data": {
      "text/plain": [
       "[0.30255237833976745, 0.87704]"
      ]
     },
     "execution_count": 204,
     "metadata": {},
     "output_type": "execute_result"
    }
   ],
   "source": [
    "model.evaluate(x_test,y_test)"
   ]
  },
  {
   "cell_type": "markdown",
   "metadata": {},
   "source": []
  },
  {
   "cell_type": "code",
   "execution_count": null,
   "metadata": {},
   "outputs": [],
   "source": []
  }
 ],
 "metadata": {
  "kernelspec": {
   "display_name": "Python 3",
   "language": "python",
   "name": "python3"
  },
  "language_info": {
   "codemirror_mode": {
    "name": "ipython",
    "version": 3
   },
   "file_extension": ".py",
   "mimetype": "text/x-python",
   "name": "python",
   "nbconvert_exporter": "python",
   "pygments_lexer": "ipython3",
   "version": "3.7.1"
  }
 },
 "nbformat": 4,
 "nbformat_minor": 2
}
