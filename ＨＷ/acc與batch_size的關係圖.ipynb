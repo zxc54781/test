{
 "cells": [
  {
   "cell_type": "markdown",
   "metadata": {},
   "source": [
    "# 我這邊是改變不同的 Batch_size \n",
    "\n",
    "### 會想做這個的原因，是因為我本來調了很多不同的loss或是Activations 都沒啥太大效果 ，後來去改一下就變魔術了！\n"
   ]
  },
  {
   "cell_type": "code",
   "execution_count": 426,
   "metadata": {},
   "outputs": [],
   "source": [
    "%matplotlib inline\n",
    "import numpy as np\n",
    "import matplotlib.pyplot as plt\n",
    "from keras.datasets import mnist\n",
    "from keras.utils import np_utils"
   ]
  },
  {
   "cell_type": "markdown",
   "metadata": {},
   "source": [
    "# 特此感謝 Zanki學長for迴圈的技術支援"
   ]
  },
  {
   "cell_type": "code",
   "execution_count": 357,
   "metadata": {},
   "outputs": [],
   "source": [
    "(x_train,y_train),(x_test,y_test) = mnist.load_data()"
   ]
  },
  {
   "cell_type": "markdown",
   "metadata": {},
   "source": [
    "## 歸一化"
   ]
  },
  {
   "cell_type": "code",
   "execution_count": 358,
   "metadata": {},
   "outputs": [],
   "source": [
    "x_train_norm=(x_train - x_train.min())/(x_train.max()-x_train.min())\n",
    "x_test_norm=(x_test - x_test.min())/(x_test.max()-x_test.min())"
   ]
  },
  {
   "cell_type": "code",
   "execution_count": 359,
   "metadata": {},
   "outputs": [],
   "source": [
    "x_train= x_train_norm.reshape(60000,28*28)\n",
    "x_test= x_test_norm.reshape(10000,28*28)"
   ]
  },
  {
   "cell_type": "markdown",
   "metadata": {},
   "source": [
    "## 把y 變成 一條的形式[.......]"
   ]
  },
  {
   "cell_type": "code",
   "execution_count": 361,
   "metadata": {},
   "outputs": [],
   "source": [
    "y_train = np_utils.to_categorical(y_train,10)\n",
    "y_test = np_utils.to_categorical(y_test,10)"
   ]
  },
  {
   "cell_type": "markdown",
   "metadata": {},
   "source": [
    "## 建構並且組合"
   ]
  },
  {
   "cell_type": "code",
   "execution_count": 362,
   "metadata": {},
   "outputs": [],
   "source": [
    "from keras.models import Sequential\n",
    "from keras.layers import Dense, Activation\n",
    "from keras.optimizers import SGD\n",
    "from keras import losses"
   ]
  },
  {
   "cell_type": "markdown",
   "metadata": {},
   "source": [
    "## 改變不同 batchsize 從 20 到 180"
   ]
  },
  {
   "cell_type": "code",
   "execution_count": 425,
   "metadata": {},
   "outputs": [
    {
     "name": "stdout",
     "output_type": "stream",
     "text": [
      "Train on 60000 samples, validate on 10000 samples\n",
      "Epoch 1/20\n",
      "60000/60000 [==============================] - 6s 92us/step - loss: 0.0796 - acc: 0.2959 - val_loss: 0.0635 - val_acc: 0.4628\n",
      "Epoch 2/20\n",
      "60000/60000 [==============================] - 5s 79us/step - loss: 0.0479 - acc: 0.6504 - val_loss: 0.0350 - val_acc: 0.7594\n",
      "Epoch 3/20\n",
      "60000/60000 [==============================] - 4s 73us/step - loss: 0.0302 - acc: 0.7880 - val_loss: 0.0258 - val_acc: 0.8244\n",
      "Epoch 4/20\n",
      "60000/60000 [==============================] - 4s 68us/step - loss: 0.0240 - acc: 0.8390 - val_loss: 0.0214 - val_acc: 0.8576\n",
      "Epoch 5/20\n",
      "60000/60000 [==============================] - 5s 79us/step - loss: 0.0211 - acc: 0.8603 - val_loss: 0.0192 - val_acc: 0.8729\n",
      "Epoch 6/20\n",
      "60000/60000 [==============================] - 5s 86us/step - loss: 0.0196 - acc: 0.8698 - val_loss: 0.0185 - val_acc: 0.8793\n",
      "Epoch 7/20\n",
      "60000/60000 [==============================] - 5s 84us/step - loss: 0.0186 - acc: 0.8777 - val_loss: 0.0183 - val_acc: 0.8781\n",
      "Epoch 8/20\n",
      "60000/60000 [==============================] - 5s 90us/step - loss: 0.0179 - acc: 0.8820 - val_loss: 0.0167 - val_acc: 0.8891\n",
      "Epoch 9/20\n",
      "60000/60000 [==============================] - 5s 92us/step - loss: 0.0173 - acc: 0.8874 - val_loss: 0.0163 - val_acc: 0.8925\n",
      "Epoch 10/20\n",
      "60000/60000 [==============================] - 5s 75us/step - loss: 0.0169 - acc: 0.8903 - val_loss: 0.0161 - val_acc: 0.8932\n",
      "Epoch 11/20\n",
      "60000/60000 [==============================] - 5s 78us/step - loss: 0.0166 - acc: 0.8921 - val_loss: 0.0159 - val_acc: 0.8946\n",
      "Epoch 12/20\n",
      "60000/60000 [==============================] - 5s 90us/step - loss: 0.0163 - acc: 0.8942 - val_loss: 0.0157 - val_acc: 0.8955\n",
      "Epoch 13/20\n",
      "60000/60000 [==============================] - 5s 82us/step - loss: 0.0160 - acc: 0.8966 - val_loss: 0.0156 - val_acc: 0.8982\n",
      "Epoch 14/20\n",
      "60000/60000 [==============================] - 5s 80us/step - loss: 0.0158 - acc: 0.8981 - val_loss: 0.0155 - val_acc: 0.9005158 - acc: 0.898\n",
      "Epoch 15/20\n",
      "60000/60000 [==============================] - 4s 74us/step - loss: 0.0156 - acc: 0.8994 - val_loss: 0.0152 - val_acc: 0.9005\n",
      "Epoch 16/20\n",
      "60000/60000 [==============================] - 5s 80us/step - loss: 0.0155 - acc: 0.9002 - val_loss: 0.0150 - val_acc: 0.9032\n",
      "Epoch 17/20\n",
      "60000/60000 [==============================] - 5s 75us/step - loss: 0.0153 - acc: 0.9012 - val_loss: 0.0150 - val_acc: 0.9027\n",
      "Epoch 18/20\n",
      "60000/60000 [==============================] - 5s 80us/step - loss: 0.0152 - acc: 0.9028 - val_loss: 0.0149 - val_acc: 0.9039\n",
      "Epoch 19/20\n",
      "60000/60000 [==============================] - 5s 83us/step - loss: 0.0151 - acc: 0.9028 - val_loss: 0.0149 - val_acc: 0.9047\n",
      "Epoch 20/20\n",
      "60000/60000 [==============================] - 6s 95us/step - loss: 0.0150 - acc: 0.9038 - val_loss: 0.0151 - val_acc: 0.9007\n",
      "Train on 60000 samples, validate on 10000 samples\n",
      "Epoch 1/20\n",
      "60000/60000 [==============================] - 4s 66us/step - loss: 0.0875 - acc: 0.1487 - val_loss: 0.0817 - val_acc: 0.2301\n",
      "Epoch 2/20\n",
      "60000/60000 [==============================] - 3s 45us/step - loss: 0.0740 - acc: 0.3400 - val_loss: 0.0686 - val_acc: 0.4458\n",
      "Epoch 3/20\n",
      "60000/60000 [==============================] - 3s 48us/step - loss: 0.0650 - acc: 0.4977 - val_loss: 0.0606 - val_acc: 0.5484\n",
      "Epoch 4/20\n",
      "60000/60000 [==============================] - 3s 45us/step - loss: 0.0535 - acc: 0.6301 - val_loss: 0.0449 - val_acc: 0.6956\n",
      "Epoch 5/20\n",
      "60000/60000 [==============================] - 2s 42us/step - loss: 0.0398 - acc: 0.7258 - val_loss: 0.0352 - val_acc: 0.7510\n",
      "Epoch 6/20\n",
      "60000/60000 [==============================] - 2s 37us/step - loss: 0.0329 - acc: 0.7710 - val_loss: 0.0294 - val_acc: 0.8028\n",
      "Epoch 7/20\n",
      "60000/60000 [==============================] - 2s 37us/step - loss: 0.0280 - acc: 0.8132 - val_loss: 0.0253 - val_acc: 0.8368\n",
      "Epoch 8/20\n",
      "60000/60000 [==============================] - 2s 40us/step - loss: 0.0250 - acc: 0.8350 - val_loss: 0.0231 - val_acc: 0.8472\n",
      "Epoch 9/20\n",
      "60000/60000 [==============================] - 2s 39us/step - loss: 0.0232 - acc: 0.8483 - val_loss: 0.0217 - val_acc: 0.8579\n",
      "Epoch 10/20\n",
      "60000/60000 [==============================] - 3s 42us/step - loss: 0.0218 - acc: 0.8566 - val_loss: 0.0206 - val_acc: 0.8645\n",
      "Epoch 11/20\n",
      "60000/60000 [==============================] - 2s 41us/step - loss: 0.0208 - acc: 0.8646 - val_loss: 0.0196 - val_acc: 0.8710\n",
      "Epoch 12/20\n",
      "60000/60000 [==============================] - 3s 44us/step - loss: 0.0200 - acc: 0.8701 - val_loss: 0.0190 - val_acc: 0.8735\n",
      "Epoch 13/20\n",
      "60000/60000 [==============================] - 2s 38us/step - loss: 0.0193 - acc: 0.8742 - val_loss: 0.0182 - val_acc: 0.8812\n",
      "Epoch 14/20\n",
      "60000/60000 [==============================] - 2s 38us/step - loss: 0.0188 - acc: 0.8777 - val_loss: 0.0180 - val_acc: 0.8817\n",
      "Epoch 15/20\n",
      "60000/60000 [==============================] - 2s 38us/step - loss: 0.0183 - acc: 0.8802 - val_loss: 0.0175 - val_acc: 0.8852\n",
      "Epoch 16/20\n",
      "60000/60000 [==============================] - 3s 44us/step - loss: 0.0179 - acc: 0.8836 - val_loss: 0.0172 - val_acc: 0.8881\n",
      "Epoch 17/20\n",
      "60000/60000 [==============================] - 2s 41us/step - loss: 0.0176 - acc: 0.8858 - val_loss: 0.0169 - val_acc: 0.8902\n",
      "Epoch 18/20\n",
      "60000/60000 [==============================] - 2s 39us/step - loss: 0.0173 - acc: 0.8881 - val_loss: 0.0166 - val_acc: 0.8924\n",
      "Epoch 19/20\n",
      "60000/60000 [==============================] - 2s 40us/step - loss: 0.0170 - acc: 0.8898 - val_loss: 0.0165 - val_acc: 0.8920\n",
      "Epoch 20/20\n",
      "60000/60000 [==============================] - 2s 39us/step - loss: 0.0168 - acc: 0.8915 - val_loss: 0.0163 - val_acc: 0.8954\n",
      "Train on 60000 samples, validate on 10000 samples\n",
      "Epoch 1/20\n",
      "60000/60000 [==============================] - 3s 58us/step - loss: 0.0865 - acc: 0.2364 - val_loss: 0.0797 - val_acc: 0.3111\n",
      "Epoch 2/20\n",
      "60000/60000 [==============================] - 2s 29us/step - loss: 0.0725 - acc: 0.3634 - val_loss: 0.0663 - val_acc: 0.3914\n",
      "Epoch 3/20\n",
      "60000/60000 [==============================] - 2s 27us/step - loss: 0.0602 - acc: 0.5299 - val_loss: 0.0542 - val_acc: 0.6356\n",
      "Epoch 4/20\n",
      "60000/60000 [==============================] - 2s 29us/step - loss: 0.0475 - acc: 0.6997 - val_loss: 0.0400 - val_acc: 0.7555\n",
      "Epoch 5/20\n",
      "60000/60000 [==============================] - 2s 29us/step - loss: 0.0352 - acc: 0.7766 - val_loss: 0.0301 - val_acc: 0.8078\n",
      "Epoch 6/20\n",
      "60000/60000 [==============================] - 2s 29us/step - loss: 0.0283 - acc: 0.8180 - val_loss: 0.0254 - val_acc: 0.8332\n",
      "Epoch 7/20\n",
      "60000/60000 [==============================] - 2s 34us/step - loss: 0.0248 - acc: 0.8398 - val_loss: 0.0227 - val_acc: 0.8526\n",
      "Epoch 8/20\n",
      "60000/60000 [==============================] - 2s 30us/step - loss: 0.0229 - acc: 0.8517 - val_loss: 0.0213 - val_acc: 0.8609\n",
      "Epoch 9/20\n",
      "60000/60000 [==============================] - 2s 29us/step - loss: 0.0216 - acc: 0.8606 - val_loss: 0.0204 - val_acc: 0.8666\n",
      "Epoch 10/20\n",
      "60000/60000 [==============================] - 2s 30us/step - loss: 0.0207 - acc: 0.8671 - val_loss: 0.0196 - val_acc: 0.8739\n",
      "Epoch 11/20\n",
      "60000/60000 [==============================] - 2s 28us/step - loss: 0.0200 - acc: 0.8718 - val_loss: 0.0190 - val_acc: 0.8762\n",
      "Epoch 12/20\n",
      "60000/60000 [==============================] - 2s 29us/step - loss: 0.0193 - acc: 0.8758 - val_loss: 0.0184 - val_acc: 0.8795\n",
      "Epoch 13/20\n",
      "60000/60000 [==============================] - 2s 32us/step - loss: 0.0188 - acc: 0.8790 - val_loss: 0.0180 - val_acc: 0.8838\n",
      "Epoch 14/20\n",
      "60000/60000 [==============================] - 2s 30us/step - loss: 0.0184 - acc: 0.8819 - val_loss: 0.0176 - val_acc: 0.8861\n",
      "Epoch 15/20\n",
      "60000/60000 [==============================] - 2s 29us/step - loss: 0.0180 - acc: 0.8844 - val_loss: 0.0175 - val_acc: 0.8873\n",
      "Epoch 16/20\n",
      "60000/60000 [==============================] - 2s 30us/step - loss: 0.0177 - acc: 0.8877 - val_loss: 0.0173 - val_acc: 0.8883\n",
      "Epoch 17/20\n",
      "60000/60000 [==============================] - 2s 29us/step - loss: 0.0174 - acc: 0.8892 - val_loss: 0.0168 - val_acc: 0.8908\n",
      "Epoch 18/20\n",
      "60000/60000 [==============================] - 2s 29us/step - loss: 0.0171 - acc: 0.8908 - val_loss: 0.0167 - val_acc: 0.8920\n",
      "Epoch 19/20\n",
      "60000/60000 [==============================] - 2s 30us/step - loss: 0.0169 - acc: 0.8919 - val_loss: 0.0166 - val_acc: 0.8926\n",
      "Epoch 20/20\n",
      "60000/60000 [==============================] - 2s 27us/step - loss: 0.0167 - acc: 0.8940 - val_loss: 0.0163 - val_acc: 0.8943\n",
      "Train on 60000 samples, validate on 10000 samples\n",
      "Epoch 1/20\n",
      "60000/60000 [==============================] - 3s 49us/step - loss: 0.0891 - acc: 0.1477 - val_loss: 0.0876 - val_acc: 0.2122\n",
      "Epoch 2/20\n",
      "60000/60000 [==============================] - 1s 24us/step - loss: 0.0852 - acc: 0.2856 - val_loss: 0.0812 - val_acc: 0.3512\n",
      "Epoch 3/20\n",
      "60000/60000 [==============================] - 1s 24us/step - loss: 0.0750 - acc: 0.4059 - val_loss: 0.0688 - val_acc: 0.4333\n",
      "Epoch 4/20\n",
      "60000/60000 [==============================] - 1s 24us/step - loss: 0.0660 - acc: 0.4513 - val_loss: 0.0631 - val_acc: 0.4444\n",
      "Epoch 5/20\n",
      "60000/60000 [==============================] - 2s 28us/step - loss: 0.0607 - acc: 0.4755 - val_loss: 0.0575 - val_acc: 0.5030\n",
      "Epoch 6/20\n",
      "60000/60000 [==============================] - 1s 25us/step - loss: 0.0558 - acc: 0.5224 - val_loss: 0.0537 - val_acc: 0.5427\n",
      "Epoch 7/20\n",
      "60000/60000 [==============================] - 2s 26us/step - loss: 0.0524 - acc: 0.5634 - val_loss: 0.0502 - val_acc: 0.5864\n",
      "Epoch 8/20\n",
      "60000/60000 [==============================] - 2s 25us/step - loss: 0.0486 - acc: 0.6254 - val_loss: 0.0466 - val_acc: 0.6415\n",
      "Epoch 9/20\n",
      "60000/60000 [==============================] - 2s 25us/step - loss: 0.0458 - acc: 0.6554 - val_loss: 0.0443 - val_acc: 0.6679\n",
      "Epoch 10/20\n",
      "60000/60000 [==============================] - 2s 25us/step - loss: 0.0438 - acc: 0.6790 - val_loss: 0.0423 - val_acc: 0.6856\n",
      "Epoch 11/20\n",
      "60000/60000 [==============================] - 1s 24us/step - loss: 0.0417 - acc: 0.6973 - val_loss: 0.0401 - val_acc: 0.7015\n",
      "Epoch 12/20\n",
      "60000/60000 [==============================] - 2s 28us/step - loss: 0.0396 - acc: 0.7115 - val_loss: 0.0382 - val_acc: 0.7153\n",
      "Epoch 13/20\n",
      "60000/60000 [==============================] - 2s 25us/step - loss: 0.0379 - acc: 0.7230 - val_loss: 0.0367 - val_acc: 0.7279\n",
      "Epoch 14/20\n",
      "60000/60000 [==============================] - 2s 25us/step - loss: 0.0365 - acc: 0.7350 - val_loss: 0.0355 - val_acc: 0.7352\n",
      "Epoch 15/20\n",
      "60000/60000 [==============================] - 1s 25us/step - loss: 0.0354 - acc: 0.7479 - val_loss: 0.0344 - val_acc: 0.7537\n",
      "Epoch 16/20\n",
      "60000/60000 [==============================] - 1s 24us/step - loss: 0.0342 - acc: 0.7644 - val_loss: 0.0333 - val_acc: 0.7682\n",
      "Epoch 17/20\n",
      "60000/60000 [==============================] - 1s 23us/step - loss: 0.0328 - acc: 0.7825 - val_loss: 0.0317 - val_acc: 0.7893\n",
      "Epoch 18/20\n",
      "60000/60000 [==============================] - 2s 28us/step - loss: 0.0310 - acc: 0.8025 - val_loss: 0.0297 - val_acc: 0.8123\n",
      "Epoch 19/20\n",
      "60000/60000 [==============================] - 2s 31us/step - loss: 0.0289 - acc: 0.8192 - val_loss: 0.0276 - val_acc: 0.8275\n",
      "Epoch 20/20\n",
      "60000/60000 [==============================] - 2s 25us/step - loss: 0.0269 - acc: 0.8330 - val_loss: 0.0257 - val_acc: 0.8407\n",
      "Train on 60000 samples, validate on 10000 samples\n",
      "Epoch 1/20\n",
      "60000/60000 [==============================] - 3s 46us/step - loss: 0.0897 - acc: 0.1415 - val_loss: 0.0893 - val_acc: 0.1839\n",
      "Epoch 2/20\n",
      "60000/60000 [==============================] - 1s 19us/step - loss: 0.0887 - acc: 0.1973 - val_loss: 0.0879 - val_acc: 0.2223\n",
      "Epoch 3/20\n",
      "60000/60000 [==============================] - 1s 20us/step - loss: 0.0867 - acc: 0.2647 - val_loss: 0.0849 - val_acc: 0.3079\n",
      "Epoch 4/20\n",
      "60000/60000 [==============================] - 1s 22us/step - loss: 0.0824 - acc: 0.3103 - val_loss: 0.0790 - val_acc: 0.3207\n",
      "Epoch 5/20\n",
      "60000/60000 [==============================] - 1s 24us/step - loss: 0.0756 - acc: 0.3455 - val_loss: 0.0722 - val_acc: 0.3691\n",
      "Epoch 6/20\n",
      "60000/60000 [==============================] - 1s 24us/step - loss: 0.0702 - acc: 0.3796 - val_loss: 0.0678 - val_acc: 0.4111\n",
      "Epoch 7/20\n",
      "60000/60000 [==============================] - 1s 20us/step - loss: 0.0656 - acc: 0.4434 - val_loss: 0.0626 - val_acc: 0.4931\n",
      "Epoch 8/20\n",
      "60000/60000 [==============================] - 1s 20us/step - loss: 0.0602 - acc: 0.5456 - val_loss: 0.0571 - val_acc: 0.5968\n",
      "Epoch 9/20\n",
      "60000/60000 [==============================] - 1s 20us/step - loss: 0.0551 - acc: 0.6084 - val_loss: 0.0517 - val_acc: 0.6359\n",
      "Epoch 10/20\n",
      "60000/60000 [==============================] - 1s 19us/step - loss: 0.0493 - acc: 0.6617 - val_loss: 0.0455 - val_acc: 0.6968\n",
      "Epoch 11/20\n",
      "60000/60000 [==============================] - 1s 20us/step - loss: 0.0439 - acc: 0.7015 - val_loss: 0.0404 - val_acc: 0.7258\n",
      "Epoch 12/20\n",
      "60000/60000 [==============================] - 1s 21us/step - loss: 0.0396 - acc: 0.7240 - val_loss: 0.0369 - val_acc: 0.7409\n",
      "Epoch 13/20\n",
      "60000/60000 [==============================] - 1s 19us/step - loss: 0.0367 - acc: 0.7414 - val_loss: 0.0344 - val_acc: 0.7586\n",
      "Epoch 14/20\n",
      "60000/60000 [==============================] - 1s 20us/step - loss: 0.0343 - acc: 0.7609 - val_loss: 0.0320 - val_acc: 0.7782\n",
      "Epoch 15/20\n",
      "60000/60000 [==============================] - 1s 21us/step - loss: 0.0318 - acc: 0.7825 - val_loss: 0.0295 - val_acc: 0.8006\n",
      "Epoch 16/20\n",
      "60000/60000 [==============================] - 1s 24us/step - loss: 0.0295 - acc: 0.8012 - val_loss: 0.0275 - val_acc: 0.8162\n",
      "Epoch 17/20\n",
      "60000/60000 [==============================] - 1s 21us/step - loss: 0.0279 - acc: 0.8123 - val_loss: 0.0262 - val_acc: 0.8229\n",
      "Epoch 18/20\n",
      "60000/60000 [==============================] - 1s 24us/step - loss: 0.0268 - acc: 0.8190 - val_loss: 0.0252 - val_acc: 0.8293\n",
      "Epoch 19/20\n",
      "60000/60000 [==============================] - 1s 23us/step - loss: 0.0259 - acc: 0.8256 - val_loss: 0.0245 - val_acc: 0.8331\n",
      "Epoch 20/20\n",
      "60000/60000 [==============================] - 1s 21us/step - loss: 0.0253 - acc: 0.8295 - val_loss: 0.0240 - val_acc: 0.8378\n",
      "Train on 60000 samples, validate on 10000 samples\n",
      "Epoch 1/20\n",
      "60000/60000 [==============================] - 3s 44us/step - loss: 0.0890 - acc: 0.1566 - val_loss: 0.0876 - val_acc: 0.2086\n",
      "Epoch 2/20\n",
      "60000/60000 [==============================] - 1s 20us/step - loss: 0.0857 - acc: 0.2255 - val_loss: 0.0835 - val_acc: 0.2378\n",
      "Epoch 3/20\n",
      "60000/60000 [==============================] - 1s 18us/step - loss: 0.0819 - acc: 0.2655 - val_loss: 0.0796 - val_acc: 0.2835\n",
      "Epoch 4/20\n",
      "60000/60000 [==============================] - 1s 17us/step - loss: 0.0770 - acc: 0.3293 - val_loss: 0.0737 - val_acc: 0.3698\n",
      "Epoch 5/20\n",
      "60000/60000 [==============================] - 1s 19us/step - loss: 0.0703 - acc: 0.4136 - val_loss: 0.0662 - val_acc: 0.4688\n",
      "Epoch 6/20\n",
      "60000/60000 [==============================] - 1s 19us/step - loss: 0.0625 - acc: 0.5028 - val_loss: 0.0580 - val_acc: 0.5767\n",
      "Epoch 7/20\n",
      "60000/60000 [==============================] - 1s 17us/step - loss: 0.0548 - acc: 0.5987 - val_loss: 0.0505 - val_acc: 0.6189\n",
      "Epoch 8/20\n",
      "60000/60000 [==============================] - 1s 17us/step - loss: 0.0486 - acc: 0.6275 - val_loss: 0.0456 - val_acc: 0.6506\n",
      "Epoch 9/20\n",
      "60000/60000 [==============================] - 1s 17us/step - loss: 0.0446 - acc: 0.6690 - val_loss: 0.0423 - val_acc: 0.6960\n",
      "Epoch 10/20\n",
      "60000/60000 [==============================] - 1s 17us/step - loss: 0.0412 - acc: 0.7037 - val_loss: 0.0389 - val_acc: 0.7283\n",
      "Epoch 11/20\n",
      "60000/60000 [==============================] - 1s 17us/step - loss: 0.0380 - acc: 0.7344 - val_loss: 0.0359 - val_acc: 0.7502\n",
      "Epoch 12/20\n",
      "60000/60000 [==============================] - 1s 17us/step - loss: 0.0353 - acc: 0.7561 - val_loss: 0.0336 - val_acc: 0.7749\n",
      "Epoch 13/20\n",
      "60000/60000 [==============================] - 1s 21us/step - loss: 0.0332 - acc: 0.7770 - val_loss: 0.0318 - val_acc: 0.7899\n",
      "Epoch 14/20\n",
      "60000/60000 [==============================] - 1s 19us/step - loss: 0.0315 - acc: 0.7921 - val_loss: 0.0303 - val_acc: 0.8029\n",
      "Epoch 15/20\n",
      "60000/60000 [==============================] - 1s 18us/step - loss: 0.0301 - acc: 0.8045 - val_loss: 0.0291 - val_acc: 0.8119\n",
      "Epoch 16/20\n",
      "60000/60000 [==============================] - 1s 18us/step - loss: 0.0289 - acc: 0.8130 - val_loss: 0.0279 - val_acc: 0.8204\n",
      "Epoch 17/20\n"
     ]
    },
    {
     "name": "stdout",
     "output_type": "stream",
     "text": [
      "60000/60000 [==============================] - 1s 17us/step - loss: 0.0279 - acc: 0.8213 - val_loss: 0.0270 - val_acc: 0.8240\n",
      "Epoch 18/20\n",
      "60000/60000 [==============================] - 1s 18us/step - loss: 0.0270 - acc: 0.8264 - val_loss: 0.0261 - val_acc: 0.8318\n",
      "Epoch 19/20\n",
      "60000/60000 [==============================] - 1s 16us/step - loss: 0.0262 - acc: 0.8312 - val_loss: 0.0255 - val_acc: 0.8343\n",
      "Epoch 20/20\n",
      "60000/60000 [==============================] - 1s 16us/step - loss: 0.0256 - acc: 0.8348 - val_loss: 0.0249 - val_acc: 0.8379\n",
      "Train on 60000 samples, validate on 10000 samples\n",
      "Epoch 1/20\n",
      "60000/60000 [==============================] - 3s 50us/step - loss: 0.0886 - acc: 0.1522 - val_loss: 0.0866 - val_acc: 0.1621\n",
      "Epoch 2/20\n",
      "60000/60000 [==============================] - 1s 19us/step - loss: 0.0848 - acc: 0.2081 - val_loss: 0.0836 - val_acc: 0.2195\n",
      "Epoch 3/20\n",
      "60000/60000 [==============================] - 1s 16us/step - loss: 0.0828 - acc: 0.2471 - val_loss: 0.0823 - val_acc: 0.2476\n",
      "Epoch 4/20\n",
      "60000/60000 [==============================] - 1s 15us/step - loss: 0.0816 - acc: 0.2675 - val_loss: 0.0813 - val_acc: 0.2674\n",
      "Epoch 5/20\n",
      "60000/60000 [==============================] - 1s 18us/step - loss: 0.0805 - acc: 0.2951 - val_loss: 0.0801 - val_acc: 0.3008\n",
      "Epoch 6/20\n",
      "60000/60000 [==============================] - 1s 17us/step - loss: 0.0790 - acc: 0.3203 - val_loss: 0.0782 - val_acc: 0.3201\n",
      "Epoch 7/20\n",
      "60000/60000 [==============================] - 1s 18us/step - loss: 0.0761 - acc: 0.3310 - val_loss: 0.0737 - val_acc: 0.3444\n",
      "Epoch 8/20\n",
      "60000/60000 [==============================] - 1s 17us/step - loss: 0.0707 - acc: 0.3762 - val_loss: 0.0681 - val_acc: 0.4085\n",
      "Epoch 9/20\n",
      "60000/60000 [==============================] - 1s 17us/step - loss: 0.0664 - acc: 0.4395 - val_loss: 0.0645 - val_acc: 0.4607\n",
      "Epoch 10/20\n",
      "60000/60000 [==============================] - 1s 16us/step - loss: 0.0631 - acc: 0.4839 - val_loss: 0.0613 - val_acc: 0.4998\n",
      "Epoch 11/20\n",
      "60000/60000 [==============================] - 1s 17us/step - loss: 0.0598 - acc: 0.5120 - val_loss: 0.0577 - val_acc: 0.5235\n",
      "Epoch 12/20\n",
      "60000/60000 [==============================] - 1s 22us/step - loss: 0.0560 - acc: 0.5304 - val_loss: 0.0537 - val_acc: 0.5397\n",
      "Epoch 13/20\n",
      "60000/60000 [==============================] - 1s 20us/step - loss: 0.0525 - acc: 0.5453 - val_loss: 0.0508 - val_acc: 0.5630\n",
      "Epoch 14/20\n",
      "60000/60000 [==============================] - 1s 18us/step - loss: 0.0498 - acc: 0.5813 - val_loss: 0.0484 - val_acc: 0.6025\n",
      "Epoch 15/20\n",
      "60000/60000 [==============================] - 1s 16us/step - loss: 0.0477 - acc: 0.6216 - val_loss: 0.0465 - val_acc: 0.6593\n",
      "Epoch 16/20\n",
      "60000/60000 [==============================] - 1s 16us/step - loss: 0.0460 - acc: 0.6727 - val_loss: 0.0448 - val_acc: 0.6866\n",
      "Epoch 17/20\n",
      "60000/60000 [==============================] - 1s 15us/step - loss: 0.0444 - acc: 0.6974 - val_loss: 0.0432 - val_acc: 0.7112\n",
      "Epoch 18/20\n",
      "60000/60000 [==============================] - 1s 17us/step - loss: 0.0429 - acc: 0.7196 - val_loss: 0.0417 - val_acc: 0.7313\n",
      "Epoch 19/20\n",
      "60000/60000 [==============================] - 1s 20us/step - loss: 0.0415 - acc: 0.7383 - val_loss: 0.0402 - val_acc: 0.7503\n",
      "Epoch 20/20\n",
      "60000/60000 [==============================] - 1s 17us/step - loss: 0.0401 - acc: 0.7539 - val_loss: 0.0388 - val_acc: 0.7623\n",
      "Train on 60000 samples, validate on 10000 samples\n",
      "Epoch 1/20\n",
      "60000/60000 [==============================] - 3s 47us/step - loss: 0.0895 - acc: 0.1043 - val_loss: 0.0889 - val_acc: 0.1124\n",
      "Epoch 2/20\n",
      "60000/60000 [==============================] - 1s 15us/step - loss: 0.0884 - acc: 0.1198 - val_loss: 0.0876 - val_acc: 0.1435\n",
      "Epoch 3/20\n",
      "60000/60000 [==============================] - 1s 15us/step - loss: 0.0868 - acc: 0.1982 - val_loss: 0.0856 - val_acc: 0.2650\n",
      "Epoch 4/20\n",
      "60000/60000 [==============================] - 1s 15us/step - loss: 0.0844 - acc: 0.2652 - val_loss: 0.0823 - val_acc: 0.2880\n",
      "Epoch 5/20\n",
      "60000/60000 [==============================] - 1s 14us/step - loss: 0.0804 - acc: 0.2905 - val_loss: 0.0776 - val_acc: 0.3143\n",
      "Epoch 6/20\n",
      "60000/60000 [==============================] - 1s 16us/step - loss: 0.0758 - acc: 0.3038 - val_loss: 0.0731 - val_acc: 0.3126\n",
      "Epoch 7/20\n",
      "60000/60000 [==============================] - 1s 14us/step - loss: 0.0718 - acc: 0.3200 - val_loss: 0.0697 - val_acc: 0.3471\n",
      "Epoch 8/20\n",
      "60000/60000 [==============================] - 1s 15us/step - loss: 0.0690 - acc: 0.3797 - val_loss: 0.0670 - val_acc: 0.4331\n",
      "Epoch 9/20\n",
      "60000/60000 [==============================] - 1s 14us/step - loss: 0.0663 - acc: 0.4524 - val_loss: 0.0640 - val_acc: 0.4912\n",
      "Epoch 10/20\n",
      "60000/60000 [==============================] - 1s 14us/step - loss: 0.0632 - acc: 0.4946 - val_loss: 0.0607 - val_acc: 0.5223\n",
      "Epoch 11/20\n",
      "60000/60000 [==============================] - 1s 14us/step - loss: 0.0600 - acc: 0.5310 - val_loss: 0.0574 - val_acc: 0.5613\n",
      "Epoch 12/20\n",
      "60000/60000 [==============================] - 1s 14us/step - loss: 0.0567 - acc: 0.5694 - val_loss: 0.0541 - val_acc: 0.5980\n",
      "Epoch 13/20\n",
      "60000/60000 [==============================] - 1s 14us/step - loss: 0.0534 - acc: 0.6038 - val_loss: 0.0510 - val_acc: 0.6235\n",
      "Epoch 14/20\n",
      "60000/60000 [==============================] - 1s 14us/step - loss: 0.0504 - acc: 0.6277 - val_loss: 0.0481 - val_acc: 0.6444\n",
      "Epoch 15/20\n",
      "60000/60000 [==============================] - 1s 14us/step - loss: 0.0476 - acc: 0.6471 - val_loss: 0.0454 - val_acc: 0.6581\n",
      "Epoch 16/20\n",
      "60000/60000 [==============================] - 1s 14us/step - loss: 0.0449 - acc: 0.6619 - val_loss: 0.0430 - val_acc: 0.6699\n",
      "Epoch 17/20\n",
      "60000/60000 [==============================] - 1s 14us/step - loss: 0.0427 - acc: 0.6717 - val_loss: 0.0410 - val_acc: 0.6801\n",
      "Epoch 18/20\n",
      "60000/60000 [==============================] - 1s 14us/step - loss: 0.0409 - acc: 0.6796 - val_loss: 0.0394 - val_acc: 0.6911\n",
      "Epoch 19/20\n",
      "60000/60000 [==============================] - 1s 14us/step - loss: 0.0394 - acc: 0.6894 - val_loss: 0.0380 - val_acc: 0.7003\n",
      "Epoch 20/20\n",
      "60000/60000 [==============================] - 1s 14us/step - loss: 0.0381 - acc: 0.6995 - val_loss: 0.0368 - val_acc: 0.7103\n",
      "Train on 60000 samples, validate on 10000 samples\n",
      "Epoch 1/20\n",
      "60000/60000 [==============================] - 2s 41us/step - loss: 0.0899 - acc: 0.1384 - val_loss: 0.0896 - val_acc: 0.1455\n",
      "Epoch 2/20\n",
      "60000/60000 [==============================] - 1s 16us/step - loss: 0.0893 - acc: 0.1455 - val_loss: 0.0890 - val_acc: 0.1417\n",
      "Epoch 3/20\n",
      "60000/60000 [==============================] - 1s 21us/step - loss: 0.0887 - acc: 0.1402 - val_loss: 0.0882 - val_acc: 0.1406\n",
      "Epoch 4/20\n",
      "60000/60000 [==============================] - 1s 13us/step - loss: 0.0878 - acc: 0.1554 - val_loss: 0.0872 - val_acc: 0.1626\n",
      "Epoch 5/20\n",
      "60000/60000 [==============================] - 1s 14us/step - loss: 0.0864 - acc: 0.1910 - val_loss: 0.0855 - val_acc: 0.2080\n",
      "Epoch 6/20\n",
      "60000/60000 [==============================] - 1s 14us/step - loss: 0.0845 - acc: 0.2392 - val_loss: 0.0837 - val_acc: 0.2607\n",
      "Epoch 7/20\n",
      "60000/60000 [==============================] - 1s 18us/step - loss: 0.0827 - acc: 0.2848 - val_loss: 0.0819 - val_acc: 0.3003\n",
      "Epoch 8/20\n",
      "60000/60000 [==============================] - 1s 20us/step - loss: 0.0806 - acc: 0.3203 - val_loss: 0.0795 - val_acc: 0.3313\n",
      "Epoch 9/20\n",
      "60000/60000 [==============================] - 1s 15us/step - loss: 0.0777 - acc: 0.3568 - val_loss: 0.0761 - val_acc: 0.3755\n",
      "Epoch 10/20\n",
      "60000/60000 [==============================] - 1s 14us/step - loss: 0.0739 - acc: 0.4006 - val_loss: 0.0722 - val_acc: 0.4195\n",
      "Epoch 11/20\n",
      "60000/60000 [==============================] - 1s 14us/step - loss: 0.0702 - acc: 0.4466 - val_loss: 0.0689 - val_acc: 0.4588\n",
      "Epoch 12/20\n",
      "60000/60000 [==============================] - 1s 16us/step - loss: 0.0669 - acc: 0.4742 - val_loss: 0.0654 - val_acc: 0.4768\n",
      "Epoch 13/20\n",
      "60000/60000 [==============================] - 1s 15us/step - loss: 0.0633 - acc: 0.5100 - val_loss: 0.0616 - val_acc: 0.5273\n",
      "Epoch 14/20\n",
      "60000/60000 [==============================] - 1s 23us/step - loss: 0.0595 - acc: 0.5605 - val_loss: 0.0579 - val_acc: 0.5723\n",
      "Epoch 15/20\n",
      "60000/60000 [==============================] - 1s 14us/step - loss: 0.0562 - acc: 0.5955 - val_loss: 0.0549 - val_acc: 0.6018\n",
      "Epoch 16/20\n",
      "60000/60000 [==============================] - 1s 13us/step - loss: 0.0535 - acc: 0.6192 - val_loss: 0.0524 - val_acc: 0.6202\n",
      "Epoch 17/20\n",
      "60000/60000 [==============================] - 1s 13us/step - loss: 0.0511 - acc: 0.6357 - val_loss: 0.0502 - val_acc: 0.6338\n",
      "Epoch 18/20\n",
      "60000/60000 [==============================] - 1s 14us/step - loss: 0.0490 - acc: 0.6493 - val_loss: 0.0481 - val_acc: 0.6491\n",
      "Epoch 19/20\n",
      "60000/60000 [==============================] - 1s 13us/step - loss: 0.0470 - acc: 0.6600 - val_loss: 0.0463 - val_acc: 0.6582\n",
      "Epoch 20/20\n",
      "60000/60000 [==============================] - 1s 13us/step - loss: 0.0453 - acc: 0.6692 - val_loss: 0.0447 - val_acc: 0.6688\n"
     ]
    }
   ],
   "source": [
    "folder=[] #創造一個可以讓他存的資料夾 這樣我就只需要用一個機器了 (不然可能會重複訓練)\n",
    "\n",
    "for i in range (1,10):\n",
    "    model = Sequential()\n",
    "    model.add(Dense(5, input_dim = 28*28))\n",
    "    model.add(Activation('relu'))\n",
    "    model.add(Dense(10))\n",
    "    model.add(Activation('relu'))\n",
    "    model.add(Dense(10))\n",
    "    model.add(Activation('softmax'))\n",
    "    model.compile(loss='mse',optimizer=SGD(lr=0.087),metrics =['accuracy'])\n",
    "\n",
    "\n",
    "    n=i*20\n",
    "    model_i = model.fit(x_train,y_train,batch_size = n,\n",
    "                            epochs = 20,\n",
    "                            verbose =1,\n",
    "                            validation_data = (x_test,y_test))\n",
    "\n",
    "\n",
    " \n",
    "    folder.append(model_i.history[\"acc\"]) # 把它存到我的資料夾\n",
    "    "
   ]
  },
  {
   "cell_type": "code",
   "execution_count": 427,
   "metadata": {},
   "outputs": [
    {
     "data": {
      "text/plain": [
       "9"
      ]
     },
     "execution_count": 427,
     "metadata": {},
     "output_type": "execute_result"
    }
   ],
   "source": [
    "len(folder)  #偷看一下是不是真的是這樣的數據"
   ]
  },
  {
   "cell_type": "code",
   "execution_count": 428,
   "metadata": {},
   "outputs": [
    {
     "data": {
      "text/plain": [
       "array([0.29585   , 0.65035   , 0.78796667, 0.839     , 0.86033333,\n",
       "       0.86981667, 0.87773333, 0.88196666, 0.88738333, 0.89031666,\n",
       "       0.89213333, 0.89425   , 0.89665   , 0.8981    , 0.89941666,\n",
       "       0.9002    , 0.90116666, 0.9028    , 0.9028    , 0.90385   ])"
      ]
     },
     "execution_count": 428,
     "metadata": {},
     "output_type": "execute_result"
    }
   ],
   "source": [
    "np.array(folder[0])"
   ]
  },
  {
   "cell_type": "code",
   "execution_count": 429,
   "metadata": {},
   "outputs": [],
   "source": [
    "a=np.array(folder[0]) #因為 test 是字串 所以我們要把它轉一下"
   ]
  },
  {
   "cell_type": "code",
   "execution_count": 430,
   "metadata": {},
   "outputs": [
    {
     "data": {
      "image/png": "[encoded data removed]",
      "text/plain": [
       "<Figure size 432x288 with 1 Axes>"
      ]
     },
     "metadata": {
      "needs_background": "light"
     },
     "output_type": "display_data"
    }
   ],
   "source": [
    "#用for把圖畫出來\n",
    "i=1\n",
    "for a in folder: #這邊是把我 資料夾裡面的元素都run過一次\n",
    "    n=i*20\n",
    "    plt.plot(a,label=f'batch_size{n}')\n",
    "        #plt.plot(model_1.history[\"val_loss\"])\n",
    "\n",
    "    plt.title('model training accuracy')\n",
    "    plt.ylabel('accuracy')\n",
    "    plt.xlabel('epoch')\n",
    "    \n",
    "    \n",
    "    i+=1\n",
    "  \n",
    "plt.legend(  loc = \"best\")\n",
    "plt.show()"
   ]
  },
  {
   "cell_type": "markdown",
   "metadata": {},
   "source": [
    "# Conclusion\n",
    "\n",
    "### 一次丟比較少資料進去的話會比較容易跑到90%，如果size比較大就需要比較多的訓練次數哦！"
   ]
  },
  {
   "cell_type": "code",
   "execution_count": null,
   "metadata": {},
   "outputs": [],
   "source": []
  },
  {
   "cell_type": "markdown",
   "metadata": {},
   "source": [
    "## 以下是測試的可以不要理他"
   ]
  },
  {
   "cell_type": "code",
   "execution_count": null,
   "metadata": {},
   "outputs": [],
   "source": [
    "model_1 = Sequential()\n",
    "model_1.add(Dense(5, input_dim = 28*28))\n",
    "model_1.add(Activation('relu'))\n",
    "model_1.add(Dense(10))\n",
    "model_1.add(Activation('relu'))\n",
    "model_1.add(Dense(10))\n",
    "model_1.add(Activation('softmax'))\n",
    "\n",
    "# 完成\n",
    "model.compile(loss='mse',optimizer=SGD(lr=0.087),metrics =['accuracy'])"
   ]
  },
  {
   "cell_type": "code",
   "execution_count": null,
   "metadata": {},
   "outputs": [],
   "source": [
    "len(model_1.history[\"acc\"])"
   ]
  },
  {
   "cell_type": "code",
   "execution_count": null,
   "metadata": {},
   "outputs": [],
   "source": [
    "model.summary()"
   ]
  },
  {
   "cell_type": "code",
   "execution_count": null,
   "metadata": {},
   "outputs": [],
   "source": [
    "model_1 = model.fit(x_train,y_train,batch_size = 10,\n",
    "                        epochs = 20,\n",
    "                        verbose =1,\n",
    "                        validation_data = (x_test,y_test))"
   ]
  },
  {
   "cell_type": "code",
   "execution_count": null,
   "metadata": {},
   "outputs": [],
   "source": [
    "fig = plt.figure()\n",
    "for i in range (1,10):\n",
    "    \n",
    "    n=i*20\n",
    "    model_i = model.fit(x_train,y_train,batch_size = n,\n",
    "                            epochs = 10,\n",
    "                            verbose =1,\n",
    "                            validation_data = (x_test,y_test))\n",
    "\n",
    "    plt.plot(model_i.history[\"acc\"])\n",
    "    #plt.plot(model_1.history[\"val_loss\"])\n",
    "\n",
    "    ax=plt.title(' model validation loss')\n",
    "    ax=plt.ylabel('loss')\n",
    "    ax=plt.xlabel('epoch')\n",
    "    ax=plt.legend([f'modle_{i}'],  loc = \"best\")\n",
    "    ax=plt.show()"
   ]
  }
 ],
 "metadata": {
  "kernelspec": {
   "display_name": "Python 3",
   "language": "python",
   "name": "python3"
  },
  "language_info": {
   "codemirror_mode": {
    "name": "ipython",
    "version": 3
   },
   "file_extension": ".py",
   "mimetype": "text/x-python",
   "name": "python",
   "nbconvert_exporter": "python",
   "pygments_lexer": "ipython3",
   "version": "3.7.1"
  }
 },
 "nbformat": 4,
 "nbformat_minor": 2
}
